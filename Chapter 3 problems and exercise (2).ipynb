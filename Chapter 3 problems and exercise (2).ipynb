{
 "cells": [
  {
   "cell_type": "markdown",
   "metadata": {},
   "source": [
    "3.1 Implement a program that requests the current temperature in degrees Fahrenheit from the\n",
    "user and prints the temperature in degrees Celsius using the formula\n",
    "\n",
    "celsius =5/9*(fahrenheit − 32)\n",
    "\n",
    "Your program should execute as follows:\n",
    "\n",
    "Enter the temperature in degrees Fahrenheit: 50\n",
    "\n",
    "The temperature in degrees Celsius is 10.0\n"
   ]
  },
  {
   "cell_type": "code",
   "execution_count": 1,
   "metadata": {},
   "outputs": [
    {
     "name": "stdout",
     "output_type": "stream",
     "text": [
      "Enter the temperature in degrees fahrenheit:32\n",
      "The temperature in degrees Celsius is 0\n"
     ]
    }
   ],
   "source": [
    "fahrenheit= int(input(\"Enter the temperature in degrees fahrenheit:\"))\n",
    "celsius =5/9*(fahrenheit - 32)\n",
    "print(\"The temperature in degrees Celsius is %d\" %celsius)"
   ]
  },
  {
   "cell_type": "markdown",
   "metadata": {},
   "source": [
    "3.2 Translate these conditional statements into Python if statements:\n",
    "\n",
    "(a) If age is greater 62, print 'You can get your pension benefits'.\n",
    "\n",
    "(b) If name is in list ['Musial', 'Aaraon', 'Williams', 'Gehrig', 'Ruth'],\n",
    "print 'One of the top 5 baseball players, ever!'.\n",
    "\n",
    "(c) If hits is greater than 10 and shield is 0, print 'You are dead...'.\n",
    "\n",
    "(d) If at least one of the Boolean variables north, south, east, and west is True, print\n",
    "'I can escape.'."
   ]
  },
  {
   "cell_type": "code",
   "execution_count": 3,
   "metadata": {},
   "outputs": [
    {
     "name": "stdout",
     "output_type": "stream",
     "text": [
      "You can get your pension benefits\n"
     ]
    }
   ],
   "source": [
    "age= 65\n",
    "if(age>62):\n",
    "    print(\"You can get your pension benefits\")"
   ]
  },
  {
   "cell_type": "code",
   "execution_count": 5,
   "metadata": {},
   "outputs": [
    {
     "name": "stdout",
     "output_type": "stream",
     "text": [
      "One of the top 5 baseball players, ever!\n"
     ]
    }
   ],
   "source": [
    "name=\"Aaraon\"\n",
    "name_list=['Musial', 'Aaraon', 'Williams', 'Gehrig', 'Ruth']\n",
    "if name in name_list:\n",
    "    print(\"One of the top 5 baseball players, ever!\")"
   ]
  },
  {
   "cell_type": "code",
   "execution_count": 7,
   "metadata": {},
   "outputs": [
    {
     "name": "stdout",
     "output_type": "stream",
     "text": [
      "You are dead\n"
     ]
    }
   ],
   "source": [
    "hits=20\n",
    "shield =0\n",
    "if(hits>10 and shield==0):\n",
    "    print(\"You are dead\")"
   ]
  },
  {
   "cell_type": "code",
   "execution_count": 8,
   "metadata": {},
   "outputs": [
    {
     "name": "stdout",
     "output_type": "stream",
     "text": [
      "I can escape!\n"
     ]
    }
   ],
   "source": [
    "north=True\n",
    "south=False\n",
    "east=False\n",
    "west=False\n",
    "if(north==True or south==True or east==True or west==True):\n",
    "    print(\"I can escape!\")"
   ]
  },
  {
   "cell_type": "markdown",
   "metadata": {},
   "source": [
    "3.3 Translate these into Python if/else statements:\n",
    "\n",
    "(a) If year is divisible by 4, print 'Could be a leap year.'; otherwise print 'Definitely not\n",
    "a leap year.'\n",
    "\n",
    "(b) If list ticket is equal to list lottery, print 'You won!'; else print 'Better luck next\n",
    "time...'\n"
   ]
  },
  {
   "cell_type": "code",
   "execution_count": 9,
   "metadata": {},
   "outputs": [
    {
     "name": "stdout",
     "output_type": "stream",
     "text": [
      "Definitely not a leap year.\n"
     ]
    }
   ],
   "source": [
    "year= 1998\n",
    "if(year%4==0):\n",
    "    print(\"Could be a leap year.\")\n",
    "else:\n",
    "    print(\"Definitely not a leap year.\")"
   ]
  },
  {
   "cell_type": "code",
   "execution_count": 12,
   "metadata": {},
   "outputs": [
    {
     "name": "stdout",
     "output_type": "stream",
     "text": [
      "Better luck next time...\n"
     ]
    }
   ],
   "source": [
    "list_ticket =[2,5,6,8,4,3]\n",
    "list_lottery=[2,5,6,8,4,1]\n",
    "if(list_ticket==list_lottery):\n",
    "    print(\"You Won!\")\n",
    "else:\n",
    "    print(\"Better luck next time...\")"
   ]
  },
  {
   "cell_type": "markdown",
   "metadata": {},
   "source": [
    "3.4 Implement a program that starts by asking the user to enter a login id (i.e., a string). The\n",
    "program then checks whether the id entered by the user is in the list ['joe', 'sue',\n",
    "'hani', 'sophie'] of valid users. Depending on the outcome, an appropriate message\n",
    "should be printed. Regardless of the outcome, your function should print 'Done.' before\n",
    "terminating. Here is an example of a successful login:\n",
    "\n",
    "Login: joe\n",
    "\n",
    "You are in!\n",
    "\n",
    "Done.\n",
    "\n",
    "And here is one that is not:\n",
    "\n",
    "Login: john\n",
    "\n",
    "User unknown.\n",
    "\n",
    "Done.\n"
   ]
  },
  {
   "cell_type": "code",
   "execution_count": 14,
   "metadata": {},
   "outputs": [
    {
     "name": "stdout",
     "output_type": "stream",
     "text": [
      "Enter login ID:  hani\n",
      "You are in!\n",
      "Done\n"
     ]
    }
   ],
   "source": [
    "login=input(\"Enter login ID:  \")\n",
    "id=['joe', 'sue', 'hani', 'sophie'] \n",
    "if (login in id):\n",
    "    print(\"You are in!\")\n",
    "else:\n",
    "    print(\"User unknown\")\n",
    "print(\"Done\")    "
   ]
  },
  {
   "cell_type": "markdown",
   "metadata": {},
   "source": [
    "3.5 Implement a program that requests from the user a list of words (i.e., strings) and then prints\n",
    "on the screen, one per line, all four-letter strings in the list.\n",
    "\n",
    "Enter word list: ['stop', 'desktop', 'top', 'post']\n",
    "\n",
    "stop\n",
    "\n",
    "post"
   ]
  },
  {
   "cell_type": "code",
   "execution_count": 20,
   "metadata": {},
   "outputs": [
    {
     "name": "stdout",
     "output_type": "stream",
     "text": [
      "enter word list:   ['stop', 'desktop', 'top', 'post']\n",
      "stop\n",
      "post\n"
     ]
    }
   ],
   "source": [
    "wordList=eval(input(\"enter word list:  \"))\n",
    "for word in wordList: \n",
    "    if len(word) == 4:\n",
    "        print(word)"
   ]
  },
  {
   "cell_type": "markdown",
   "metadata": {},
   "source": [
    "3.6 Write the for loop that will print these sequences of numbers, one per line, in the interactive\n",
    "shell.\n",
    "\n",
    "(a) Integers from 0 to 9 (i.e., 0, 1, 2, 3, 4, 5, 6, 7, 8, 9)\n",
    "\n",
    "(b) Integers from 0 to 1 (i.e., 0, 1)"
   ]
  },
  {
   "cell_type": "code",
   "execution_count": 23,
   "metadata": {},
   "outputs": [
    {
     "name": "stdout",
     "output_type": "stream",
     "text": [
      "0\n",
      "1\n",
      "2\n",
      "3\n",
      "4\n",
      "5\n",
      "6\n",
      "7\n",
      "8\n",
      "9\n"
     ]
    }
   ],
   "source": [
    "for i in range(10):\n",
    "    print(i)"
   ]
  },
  {
   "cell_type": "code",
   "execution_count": 24,
   "metadata": {},
   "outputs": [
    {
     "name": "stdout",
     "output_type": "stream",
     "text": [
      "0\n",
      "1\n"
     ]
    }
   ],
   "source": [
    "for i in range(2):\n",
    "    print(i)"
   ]
  },
  {
   "cell_type": "markdown",
   "metadata": {},
   "source": [
    "3.7 Write the for loop that will print the following sequences of numbers, one per line.\n",
    "\n",
    "(a) Integers from 3 up to and including 12\n",
    "\n",
    "(b) Integers from 0 up to but not including 9, but with a step of 2 instead of the default\n",
    "of 1 (i.e., 0, 2, 4, 6, 8)\n",
    "\n",
    "(c) Integers from 0 up to but not including 24 with a step of 3\n",
    "\n",
    "(d) Integers from 3 up to but not including 12 with a step of 5\n"
   ]
  },
  {
   "cell_type": "code",
   "execution_count": 27,
   "metadata": {},
   "outputs": [
    {
     "name": "stdout",
     "output_type": "stream",
     "text": [
      "3\n",
      "4\n",
      "5\n",
      "6\n",
      "7\n",
      "8\n",
      "9\n",
      "10\n",
      "11\n",
      "12\n"
     ]
    }
   ],
   "source": [
    "for i in range(3,13):\n",
    "    print(i)"
   ]
  },
  {
   "cell_type": "code",
   "execution_count": 29,
   "metadata": {},
   "outputs": [
    {
     "name": "stdout",
     "output_type": "stream",
     "text": [
      "0\n",
      "2\n",
      "4\n",
      "6\n",
      "8\n"
     ]
    }
   ],
   "source": [
    "for i in range(0,9,2):\n",
    "    print(i)"
   ]
  },
  {
   "cell_type": "code",
   "execution_count": 30,
   "metadata": {},
   "outputs": [
    {
     "name": "stdout",
     "output_type": "stream",
     "text": [
      "0\n",
      "3\n",
      "6\n",
      "9\n",
      "12\n",
      "15\n",
      "18\n",
      "21\n"
     ]
    }
   ],
   "source": [
    "for i in range(0,24,3):\n",
    "    print(i)"
   ]
  },
  {
   "cell_type": "code",
   "execution_count": 31,
   "metadata": {},
   "outputs": [
    {
     "name": "stdout",
     "output_type": "stream",
     "text": [
      "3\n",
      "8\n"
     ]
    }
   ],
   "source": [
    "for i in range(3,12,5):\n",
    "    print(i)"
   ]
  },
  {
   "cell_type": "markdown",
   "metadata": {},
   "source": [
    "3.8 Define, directly in the interactive shell, function perimeter() that takes, as input, the radius of a circle (a nonnegative number) and returns the perimeter of the circle. A sample\n",
    "usage is:\n",
    "\n",
    "   perimeter(1)\n",
    "\n",
    "   6.283185307179586\n",
    "\n",
    "   perimeter (2)\n",
    "\n",
    "   12.566370614359172\n",
    "\n",
    "Remember that you will need the value of π (defined in module math) to compute the\n",
    "perimeter."
   ]
  },
  {
   "cell_type": "code",
   "execution_count": 34,
   "metadata": {},
   "outputs": [
    {
     "name": "stdout",
     "output_type": "stream",
     "text": [
      "12.566370614359172\n"
     ]
    }
   ],
   "source": [
    "import math\n",
    "def perimeter(radius): \n",
    "    return (2* math.pi * radius)\n",
    "\n",
    "circle_perimeter= perimeter(2)\n",
    "print(circle_perimeter)"
   ]
  },
  {
   "cell_type": "markdown",
   "metadata": {},
   "source": [
    "3.9 Implement function average() that takes two numbers as input and returns the average of\n",
    "the numbers. You should write your implementation in a module you will name average.py.\n",
    "\n",
    "A sample usage is:\n",
    "\n",
    "average(1,3)\n",
    "\n",
    "2.0\n",
    "\n",
    "average(2, 3.5)\n",
    "\n",
    "2.75\n"
   ]
  },
  {
   "cell_type": "code",
   "execution_count": 48,
   "metadata": {},
   "outputs": [
    {
     "name": "stdout",
     "output_type": "stream",
     "text": [
      "2.0\n"
     ]
    }
   ],
   "source": [
    "def average(x, y):\n",
    "    'returns the average of x and y'\n",
    "    return (x + y) / 2\n",
    "avg = average(1,3)\n",
    "print(avg)"
   ]
  },
  {
   "cell_type": "markdown",
   "metadata": {},
   "source": [
    "3.10 Implement function noVowel() that takes a string s as input and returns True if no character in s is a vowel, and False otherwise (i.e., some character in s is a vowel).\n",
    "\n",
    "noVowel('crypt')\n",
    "\n",
    "True\n",
    "\n",
    "noVowel('cwm')\n",
    "\n",
    "True\n",
    "\n",
    "noVowel('car')\n",
    "\n",
    "False\n"
   ]
  },
  {
   "cell_type": "code",
   "execution_count": 36,
   "metadata": {},
   "outputs": [
    {
     "name": "stdout",
     "output_type": "stream",
     "text": [
      "False\n"
     ]
    }
   ],
   "source": [
    "def noVowel(s):\n",
    "    for c in s:\n",
    "        if c in 'aeiouAEIOU':\n",
    "            return False\n",
    "    return True\n",
    "\n",
    "check_no_vowel=noVowel(\"car\")\n",
    "print(check_no_vowel)"
   ]
  },
  {
   "cell_type": "markdown",
   "metadata": {},
   "source": [
    "3.11  Implement function allEven() that takes a list of integers and returns True if all integers\n",
    "in the list are even, and False otherwise.\n",
    "\n",
    "allEven([8, 0, -2, 4, -6, 10])\n",
    "\n",
    "True\n",
    "\n",
    "allEven([8, 0, -1, 4, -6, 10])\n",
    "\n",
    "False\n"
   ]
  },
  {
   "cell_type": "code",
   "execution_count": 37,
   "metadata": {},
   "outputs": [
    {
     "name": "stdout",
     "output_type": "stream",
     "text": [
      "True\n"
     ]
    }
   ],
   "source": [
    "def allEven(numList):\n",
    "\n",
    "    for num in numList:\n",
    "        if num%2 != 0:\n",
    "            return False\n",
    "        return True\n",
    "lst=allEven([8, 0, -2, 4, -6, 10])\n",
    "print(lst)"
   ]
  },
  {
   "cell_type": "markdown",
   "metadata": {},
   "source": [
    "3.12 Write function negatives() that takes a list as input and prints, one per line, the negative\n",
    "values in the list. The function should not return anything.\n",
    "\n",
    "negatives([4, 0, -1, -3, 6, -9])\n",
    "\n",
    "-1\n",
    "\n",
    "-3\n",
    "\n",
    "-9\n"
   ]
  },
  {
   "cell_type": "code",
   "execution_count": 46,
   "metadata": {},
   "outputs": [
    {
     "name": "stdout",
     "output_type": "stream",
     "text": [
      "-1\n",
      "-3\n",
      "-9\n"
     ]
    }
   ],
   "source": [
    "def negatives(lst):\n",
    "    'prints the negative numbers in list lst'\n",
    "    for i in lst:\n",
    "        if i < 0:\n",
    "            print(i)\n",
    "negatives([4, 0, -1, -3, 6, -9])            "
   ]
  },
  {
   "cell_type": "markdown",
   "metadata": {},
   "source": [
    "3.13  Add appropriate docstrings to functions average() and negatives() from Practice Problems 3.9 and 3.12. Check your work using the help() documentation tool. You should get,\n",
    "for example:\n",
    "\n",
    "help(average)\n",
    "\n",
    "Help on function average in module __main__:\n",
    "\n",
    "average(x, y)\n",
    "\n",
    "returns average of x and y"
   ]
  },
  {
   "cell_type": "code",
   "execution_count": 49,
   "metadata": {},
   "outputs": [
    {
     "name": "stdout",
     "output_type": "stream",
     "text": [
      "Help on function average in module __main__:\n",
      "\n",
      "average(x, y)\n",
      "    returns the average of x and y\n",
      "\n"
     ]
    }
   ],
   "source": [
    "help(average)"
   ]
  },
  {
   "cell_type": "code",
   "execution_count": 47,
   "metadata": {},
   "outputs": [
    {
     "name": "stdout",
     "output_type": "stream",
     "text": [
      "Help on function negatives in module __main__:\n",
      "\n",
      "negatives(lst)\n",
      "    prints the negative numbers in list lst\n",
      "\n"
     ]
    }
   ],
   "source": [
    "help(negatives)"
   ]
  },
  {
   "cell_type": "markdown",
   "metadata": {},
   "source": [
    "3.14 Draw a diagram representing the state of names and objects after this execution:\n",
    "\n",
    "a = [5, 6, 7]\n",
    "\n",
    "b = a\n",
    "\n",
    "a = 3"
   ]
  },
  {
   "cell_type": "code",
   "execution_count": 40,
   "metadata": {},
   "outputs": [
    {
     "name": "stdout",
     "output_type": "stream",
     "text": [
      "[5, 6, 7]\n",
      "3\n"
     ]
    }
   ],
   "source": [
    "a = [5, 6, 7]\n",
    "\n",
    "b = a\n",
    "\n",
    "a = 3\n",
    "print(b)\n",
    "print(a)"
   ]
  },
  {
   "cell_type": "markdown",
   "metadata": {},
   "source": [
    "3.15  Suppose a nonempty list team has been assigned. Write a Python statement or statements\n",
    "that swap the first and last value of the list. So, if the original list is:\n",
    "\n",
    "team = ['Ava', 'Eleanor', 'Clare', 'Sarah']\n",
    "\n",
    "then the resulting list should be:\n",
    "\n",
    "team\n",
    "\n",
    "['Sarah', 'Eleanor', 'Clare', 'Ava']"
   ]
  },
  {
   "cell_type": "code",
   "execution_count": 41,
   "metadata": {},
   "outputs": [
    {
     "data": {
      "text/plain": [
       "['Sarah', 'Eleanor', 'Clare', 'Ava']"
      ]
     },
     "execution_count": 41,
     "metadata": {},
     "output_type": "execute_result"
    }
   ],
   "source": [
    "team = ['Ava', 'Eleanor', 'Clare', 'Sarah']\n",
    "\n",
    "temp = team[0]\n",
    "team[0] = team[-1]\n",
    "team[-1] = temp\n",
    "team"
   ]
  },
  {
   "cell_type": "markdown",
   "metadata": {},
   "source": [
    "3.16  Implement function swapFL() that takes a list as input and swaps the first and last elements of the list. You may assume the list will be nonempty. The function should not return\n",
    "anything.\n",
    "\n",
    "ingredients = ['flour', 'sugar', 'butter', 'apples']\n",
    "\n",
    "swapFL(ingredients)\n",
    "\n",
    "ingredients\n",
    "\n",
    "['apples', 'sugar', 'butter', 'flour']"
   ]
  },
  {
   "cell_type": "code",
   "execution_count": 42,
   "metadata": {},
   "outputs": [
    {
     "name": "stdout",
     "output_type": "stream",
     "text": [
      "['apples', 'sugar', 'butter', 'flour']\n"
     ]
    }
   ],
   "source": [
    "def swapFL(lst):\n",
    "    temp= lst[0]\n",
    "    lst[0]=lst[-1] \n",
    "    lst[-1]=temp\n",
    "    print(lst)\n",
    "    \n",
    "swapFL(['flour', 'sugar', 'butter', 'apples'])    "
   ]
  },
  {
   "cell_type": "markdown",
   "metadata": {},
   "source": [
    "# EXERCISES\n"
   ]
  },
  {
   "cell_type": "markdown",
   "metadata": {},
   "source": [
    "3.17 Use the eval() function to evaluate these strings as Python expressions:\n",
    "\n",
    "(a) '2 * 3 + 1'\n",
    "\n",
    "(b) 'hello'\n",
    "\n",
    "(c) \"'hello' + ' ' + 'world!'\"\n",
    "\n",
    "(d) \"'ASCII'.count('I')\"\n",
    "\n",
    "(e) 'x = 5'\n",
    "\n",
    "Which evaluations result in an error? Explain why."
   ]
  },
  {
   "cell_type": "code",
   "execution_count": 50,
   "metadata": {},
   "outputs": [
    {
     "data": {
      "text/plain": [
       "7"
      ]
     },
     "execution_count": 50,
     "metadata": {},
     "output_type": "execute_result"
    }
   ],
   "source": [
    "eval('2 * 3 + 1')"
   ]
  },
  {
   "cell_type": "code",
   "execution_count": 56,
   "metadata": {},
   "outputs": [
    {
     "data": {
      "text/plain": [
       "'hello'"
      ]
     },
     "execution_count": 56,
     "metadata": {},
     "output_type": "execute_result"
    }
   ],
   "source": [
    "eval(\"'hello'\")"
   ]
  },
  {
   "cell_type": "code",
   "execution_count": 52,
   "metadata": {},
   "outputs": [
    {
     "data": {
      "text/plain": [
       "'hello world!'"
      ]
     },
     "execution_count": 52,
     "metadata": {},
     "output_type": "execute_result"
    }
   ],
   "source": [
    "eval( \"'hello' + ' ' + 'world!'\")"
   ]
  },
  {
   "cell_type": "code",
   "execution_count": 57,
   "metadata": {},
   "outputs": [
    {
     "data": {
      "text/plain": [
       "2"
      ]
     },
     "execution_count": 57,
     "metadata": {},
     "output_type": "execute_result"
    }
   ],
   "source": [
    "eval( \"'ASCII'.count('I')\")"
   ]
  },
  {
   "cell_type": "code",
   "execution_count": 62,
   "metadata": {},
   "outputs": [
    {
     "ename": "SyntaxError",
     "evalue": "invalid syntax (<string>, line 1)",
     "output_type": "error",
     "traceback": [
      "Traceback \u001b[1;36m(most recent call last)\u001b[0m:\n",
      "  File \u001b[0;32m\"C:\\Users\\91827\\anaconda3\\lib\\site-packages\\IPython\\core\\interactiveshell.py\"\u001b[0m, line \u001b[0;32m3418\u001b[0m, in \u001b[0;35mrun_code\u001b[0m\n    exec(code_obj, self.user_global_ns, self.user_ns)\n",
      "\u001b[1;36m  File \u001b[1;32m\"<ipython-input-62-2874e929c048>\"\u001b[1;36m, line \u001b[1;32m1\u001b[1;36m, in \u001b[1;35m<module>\u001b[1;36m\u001b[0m\n\u001b[1;33m    eval( 'x=5')\u001b[0m\n",
      "\u001b[1;36m  File \u001b[1;32m\"<string>\"\u001b[1;36m, line \u001b[1;32m1\u001b[0m\n\u001b[1;33m    x=5\u001b[0m\n\u001b[1;37m     ^\u001b[0m\n\u001b[1;31mSyntaxError\u001b[0m\u001b[1;31m:\u001b[0m invalid syntax\n"
     ]
    }
   ],
   "source": [
    "eval( 'x=5')"
   ]
  },
  {
   "cell_type": "markdown",
   "metadata": {},
   "source": [
    "3.18 Assume a, b, and c have been defined in the interactive shell as shown:\n",
    "a, b, c = 3, 4, 5\n",
    "\n",
    "Within the interactive shell, write if statements that print 'OK' if:\n",
    "\n",
    "(a) a is less than b.\n",
    "\n",
    "(b) c is less than b.\n",
    "\n",
    "(c) The sum of a and b is equal to c.\n",
    "\n",
    "(d) The sum of the squares a and b is equal to c squared"
   ]
  },
  {
   "cell_type": "code",
   "execution_count": 63,
   "metadata": {},
   "outputs": [],
   "source": [
    "a,b,c=3,4,5\n"
   ]
  },
  {
   "cell_type": "code",
   "execution_count": 64,
   "metadata": {},
   "outputs": [
    {
     "name": "stdout",
     "output_type": "stream",
     "text": [
      "OK\n"
     ]
    }
   ],
   "source": [
    "if(a<b):\n",
    "    print(\"OK\")"
   ]
  },
  {
   "cell_type": "code",
   "execution_count": 65,
   "metadata": {},
   "outputs": [],
   "source": [
    "if(c<b):\n",
    "    print(\"OK\")"
   ]
  },
  {
   "cell_type": "code",
   "execution_count": 66,
   "metadata": {},
   "outputs": [],
   "source": [
    "if (a+b == c):\n",
    "    print(\"OK\")"
   ]
  },
  {
   "cell_type": "code",
   "execution_count": 67,
   "metadata": {},
   "outputs": [
    {
     "name": "stdout",
     "output_type": "stream",
     "text": [
      "OK\n"
     ]
    }
   ],
   "source": [
    "if (a**2+b**2 == c**2):\n",
    "    print(\"OK\")"
   ]
  },
  {
   "cell_type": "markdown",
   "metadata": {},
   "source": [
    "3.19 Repeat the previous problem with the additional requirement that 'NOT OK' is printed\n",
    "if the condition is false."
   ]
  },
  {
   "cell_type": "code",
   "execution_count": 68,
   "metadata": {},
   "outputs": [
    {
     "name": "stdout",
     "output_type": "stream",
     "text": [
      "OK\n"
     ]
    }
   ],
   "source": [
    "if(a<b):\n",
    "    print(\"OK\")\n",
    "else:\n",
    "    print(\"NOT OK\")"
   ]
  },
  {
   "cell_type": "code",
   "execution_count": 69,
   "metadata": {},
   "outputs": [
    {
     "name": "stdout",
     "output_type": "stream",
     "text": [
      "NOT OK\n"
     ]
    }
   ],
   "source": [
    "if(c<b):\n",
    "    print(\"OK\")\n",
    "else:\n",
    "    print(\"NOT OK\")"
   ]
  },
  {
   "cell_type": "code",
   "execution_count": 70,
   "metadata": {},
   "outputs": [
    {
     "name": "stdout",
     "output_type": "stream",
     "text": [
      "NOT OK\n"
     ]
    }
   ],
   "source": [
    "if (a+b == c):\n",
    "    print(\"OK\")\n",
    "else:\n",
    "    print(\"NOT OK\")    "
   ]
  },
  {
   "cell_type": "code",
   "execution_count": 71,
   "metadata": {},
   "outputs": [
    {
     "name": "stdout",
     "output_type": "stream",
     "text": [
      "OK\n"
     ]
    }
   ],
   "source": [
    "if (a**2+b**2 == c**2):\n",
    "    print(\"OK\")\n",
    "else:\n",
    "    print(\"NOT OK\")    "
   ]
  },
  {
   "cell_type": "markdown",
   "metadata": {},
   "source": [
    "3.20 Write a for loop that iterates over a list of strings lst and prints the first three characters of every word. If lst is the list ['January', 'February', 'March'] then the\n",
    "following should be printed:\n",
    "\n",
    "Jan\n",
    "\n",
    "Feb\n",
    "\n",
    "Mar"
   ]
  },
  {
   "cell_type": "code",
   "execution_count": 72,
   "metadata": {},
   "outputs": [
    {
     "name": "stdout",
     "output_type": "stream",
     "text": [
      "Jan\n",
      "Feb\n",
      "Mar\n"
     ]
    }
   ],
   "source": [
    "lst=['January', 'February', 'March']\n",
    "for x in lst:\n",
    "    print(x[0:3])\n",
    "    "
   ]
  },
  {
   "cell_type": "markdown",
   "metadata": {},
   "source": [
    "3.21 Write a for loop that iterates over a list of numbers lst and prints the even numbers\n",
    "in the list. For example, if lst is [2, 3, 4, 5, 6, 7, 8, 9], then the numbers 2, 4, 6,\n",
    "and 8 should be printed."
   ]
  },
  {
   "cell_type": "code",
   "execution_count": 73,
   "metadata": {},
   "outputs": [
    {
     "name": "stdout",
     "output_type": "stream",
     "text": [
      "2\n",
      "4\n",
      "6\n",
      "8\n"
     ]
    }
   ],
   "source": [
    "lst = [2, 3, 4, 5, 6, 7, 8, 9]\n",
    "for i in lst:\n",
    "    if(i%2==0):\n",
    "        print(i)"
   ]
  },
  {
   "cell_type": "markdown",
   "metadata": {},
   "source": [
    "3.22 Write a for loop that iterates over a list of numbers lst and prints the numbers in the\n",
    "list whose square is divisible by 8. For example, if lst is [2, 3, 4, 5, 6, 7, 8, 9],\n",
    "then the numbers 4 and 8 should be printed."
   ]
  },
  {
   "cell_type": "code",
   "execution_count": 74,
   "metadata": {},
   "outputs": [
    {
     "name": "stdout",
     "output_type": "stream",
     "text": [
      "4\n",
      "8\n"
     ]
    }
   ],
   "source": [
    "lst=[2, 3, 4, 5, 6, 7, 8, 9]\n",
    "for i in lst:\n",
    "    if((i**2)%8==0):\n",
    "        print(i)"
   ]
  },
  {
   "cell_type": "markdown",
   "metadata": {},
   "source": [
    "3.23 Write for loops that use the function range() and print the following sequences:\n",
    "\n",
    "(a) 0 1\n",
    "\n",
    "(b) 0\n",
    "\n",
    "(c) 3 4 5 6\n",
    "\n",
    "(d) 1\n",
    "\n",
    "(e) 0 3\n",
    "\n",
    "(f) 5 9 13 17 21"
   ]
  },
  {
   "cell_type": "code",
   "execution_count": 77,
   "metadata": {},
   "outputs": [
    {
     "name": "stdout",
     "output_type": "stream",
     "text": [
      "0 1 "
     ]
    }
   ],
   "source": [
    "for i in range(0,2):\n",
    "    print(i,end=\" \")"
   ]
  },
  {
   "cell_type": "code",
   "execution_count": 78,
   "metadata": {},
   "outputs": [
    {
     "name": "stdout",
     "output_type": "stream",
     "text": [
      "0 "
     ]
    }
   ],
   "source": [
    "for i in range(0,1):\n",
    "    print(i,end=\" \")"
   ]
  },
  {
   "cell_type": "code",
   "execution_count": 79,
   "metadata": {},
   "outputs": [
    {
     "name": "stdout",
     "output_type": "stream",
     "text": [
      "3 4 5 6 "
     ]
    }
   ],
   "source": [
    "for i in range(3,7):\n",
    "    print(i,end=\" \")"
   ]
  },
  {
   "cell_type": "code",
   "execution_count": 80,
   "metadata": {},
   "outputs": [
    {
     "name": "stdout",
     "output_type": "stream",
     "text": [
      "1 "
     ]
    }
   ],
   "source": [
    "for i in range(1,2):\n",
    "    print(i,end=\" \")"
   ]
  },
  {
   "cell_type": "code",
   "execution_count": 81,
   "metadata": {},
   "outputs": [
    {
     "name": "stdout",
     "output_type": "stream",
     "text": [
      "0 3 "
     ]
    }
   ],
   "source": [
    "for i in range(0,4,3):\n",
    "    print(i,end=\" \")"
   ]
  },
  {
   "cell_type": "code",
   "execution_count": 82,
   "metadata": {},
   "outputs": [
    {
     "name": "stdout",
     "output_type": "stream",
     "text": [
      "5 9 13 17 21 "
     ]
    }
   ],
   "source": [
    "for i in range(5,22,4):\n",
    "    print(i,end=\" \")"
   ]
  },
  {
   "cell_type": "markdown",
   "metadata": {},
   "source": [
    "# PROBLEMS"
   ]
  },
  {
   "cell_type": "markdown",
   "metadata": {},
   "source": [
    "3.24 Implement a program that requests a list of words from the user and then prints each\n",
    "word in the list that is not 'secret'.\n",
    "\n",
    "Enter list of words: ['cia','secret','mi6','isi','secret']\n",
    "\n",
    "cia\n",
    "\n",
    "mi6\n",
    "\n",
    "isi"
   ]
  },
  {
   "cell_type": "code",
   "execution_count": 84,
   "metadata": {},
   "outputs": [
    {
     "name": "stdout",
     "output_type": "stream",
     "text": [
      "enter list of words: ['cia','secret','mi6','isi','secret']\n",
      "cia\n",
      "mi6\n",
      "isi\n"
     ]
    }
   ],
   "source": [
    "lst= eval(input(\"enter list of words: \"))\n",
    "for i in lst:\n",
    "    if(i!= \"secret\"):\n",
    "        print(i)"
   ]
  },
  {
   "cell_type": "markdown",
   "metadata": {},
   "source": [
    "3.25 Implement a program that requests a list of student names from the user and prints\n",
    "those names that start with letters A through M.\n",
    "\n",
    "Enter list: ['Ellie', 'Steve', 'Sam', 'Owen', 'Gavin']\n",
    "\n",
    "Ellie\n",
    "\n",
    "Gavin"
   ]
  },
  {
   "cell_type": "code",
   "execution_count": 86,
   "metadata": {},
   "outputs": [
    {
     "name": "stdout",
     "output_type": "stream",
     "text": [
      "enter list of Names: ['Ellie', 'Steve', 'Sam', 'Owen', 'Gavin']\n",
      "Ellie\n",
      "Gavin\n"
     ]
    }
   ],
   "source": [
    "lst= eval(input(\"enter list of Names: \"))\n",
    "for i in lst:\n",
    "    if (i[0] in 'ABCDEFGHIJKLM'):\n",
    "        print(i)"
   ]
  },
  {
   "cell_type": "markdown",
   "metadata": {},
   "source": [
    "3.26 Implement a program that requests a nonempty list from the user and prints on the\n",
    "screen a message giving the first and last element of the list.\n",
    "\n",
    "Enter a list: [3, 5, 7, 9]\n",
    "\n",
    "The first list element is 3\n",
    "\n",
    "The last list element is 9"
   ]
  },
  {
   "cell_type": "code",
   "execution_count": 87,
   "metadata": {},
   "outputs": [
    {
     "name": "stdout",
     "output_type": "stream",
     "text": [
      "enter a list:   [3, 5, 7, 9]\n",
      "The first list element is 3\n",
      "The last list element is 9\n"
     ]
    }
   ],
   "source": [
    "lst= eval(input(\"enter a list:  \"))\n",
    "print(\"The first list element is %d\" %lst[0])\n",
    "print(\"The last list element is %d\" %lst[-1])"
   ]
  },
  {
   "cell_type": "markdown",
   "metadata": {},
   "source": [
    "3.27 Implement a program that requests a positive integer n from the user and prints the\n",
    "first four multiples of n.\n",
    "\n",
    "Enter n: 5\n",
    "\n",
    "0\n",
    "\n",
    "5\n",
    "\n",
    "10\n",
    "\n",
    "15"
   ]
  },
  {
   "cell_type": "code",
   "execution_count": 91,
   "metadata": {},
   "outputs": [
    {
     "name": "stdout",
     "output_type": "stream",
     "text": [
      "enter a number:  5\n",
      "0\n",
      "5\n",
      "10\n",
      "15\n"
     ]
    }
   ],
   "source": [
    "n= eval(input(\"enter a number:  \"))\n",
    "for i in range(0,4):\n",
    "    print(n*i)"
   ]
  },
  {
   "cell_type": "markdown",
   "metadata": {},
   "source": [
    "3.28 Implement a program that requests an integer n from the user and prints on the screen\n",
    "the squares of all numbers from 0 up to, but not including, n.\n",
    "\n",
    "Enter n: 3\n",
    "\n",
    "0\n",
    "\n",
    "1\n",
    "\n",
    "4\n"
   ]
  },
  {
   "cell_type": "code",
   "execution_count": 92,
   "metadata": {},
   "outputs": [
    {
     "name": "stdout",
     "output_type": "stream",
     "text": [
      "enter a number:  3\n",
      "0\n",
      "1\n",
      "4\n"
     ]
    }
   ],
   "source": [
    "n= eval(input(\"enter a number:  \"))\n",
    "for i in range(0,n):\n",
    "    print(i**2)"
   ]
  },
  {
   "cell_type": "markdown",
   "metadata": {},
   "source": [
    "3.29 Implement a program that requests a positive integer n and prints on the screen all the\n",
    "positive divisors of n. Note: 0 is not a divisor of any integer, and n divides itself.\n",
    "\n",
    "Enter n: 49\n",
    "\n",
    "1\n",
    "\n",
    "7\n",
    "\n",
    "49\n"
   ]
  },
  {
   "cell_type": "code",
   "execution_count": 95,
   "metadata": {},
   "outputs": [
    {
     "name": "stdout",
     "output_type": "stream",
     "text": [
      "enter a number:  49\n",
      "1\n",
      "7\n",
      "49\n"
     ]
    }
   ],
   "source": [
    "n= eval(input(\"enter a number:  \"))\n",
    "for i in range(1,n+1):\n",
    "    if(n%i==0):\n",
    "        print(i)"
   ]
  },
  {
   "cell_type": "markdown",
   "metadata": {},
   "source": [
    "3.30 Implement a program that requests four numbers (integer or floating-point) from the\n",
    "user. Your program should compute the average of the first three numbers and compare the\n",
    "average to the fourth number. If they are equal, your program should print 'Equal' on the\n",
    "screen.\n",
    "\n",
    "Enter first number: 4.5\n",
    "\n",
    "Enter second number: 3\n",
    "\n",
    "Enter third number: 3\n",
    "\n",
    "Enter last number: 3.5\n",
    "\n",
    "Equal"
   ]
  },
  {
   "cell_type": "code",
   "execution_count": 2,
   "metadata": {},
   "outputs": [
    {
     "name": "stdout",
     "output_type": "stream",
     "text": [
      "enter 4 number seperated by commas:  4.5,3,3,3.5\n",
      "Equal\n"
     ]
    }
   ],
   "source": [
    "#n1= eval(input(\"enter first number:  \"))\n",
    "#n2= eval(input(\"enter second number:  \"))\n",
    "#n3= eval(input(\"enter third number:  \"))\n",
    "#n4= eval(input(\"enter last number:  \"))\n",
    "n1,n2,n3,n4=eval(input(\"enter 4 number seperated by commas:  \"))\n",
    "if((n1+n2+n3)/3==n4):\n",
    "    print(\"Equal\")"
   ]
  },
  {
   "cell_type": "markdown",
   "metadata": {},
   "source": [
    "3.31 Implement a program that requests the user to enter the x and y coordinates (each\n",
    "between −10 and 10) of a dart and computes whether the dart has hit the dartboard, a circle\n",
    "with center (0, 0) and radius 8. If so, string It is in! should be printed on the screen.\n",
    "\n",
    "Enter x: 2.5\n",
    "\n",
    "Enter y: 4\n",
    "\n",
    "It is in!"
   ]
  },
  {
   "cell_type": "code",
   "execution_count": 1,
   "metadata": {},
   "outputs": [
    {
     "name": "stdout",
     "output_type": "stream",
     "text": [
      "enter x:  2.5\n",
      "enter y:  4\n",
      "It is in!\n"
     ]
    }
   ],
   "source": [
    "x= eval(input(\"enter x:  \"))\n",
    "y= eval(input(\"enter y:  \"))\n",
    "if(x**2+y**2<=8**2):\n",
    "    print(\"It is in!\")"
   ]
  },
  {
   "cell_type": "markdown",
   "metadata": {},
   "source": [
    "3.32 Write a program that requests a positive four-digit integer from the user and prints its\n",
    "digits. You are not allowed to use the string data type operations to do this task. Your program should simply read the input as an integer and process it as an integer, using standard\n",
    "arithmetic operations (+, *, -, /, %, etc).\n",
    "\n",
    "Enter n: 1234\n",
    "\n",
    "1\n",
    "\n",
    "2\n",
    "\n",
    "3\n",
    "\n",
    "4"
   ]
  },
  {
   "cell_type": "code",
   "execution_count": 5,
   "metadata": {},
   "outputs": [
    {
     "name": "stdout",
     "output_type": "stream",
     "text": [
      "enter n:  1234\n",
      "1\n",
      "2\n",
      "3\n",
      "4\n"
     ]
    }
   ],
   "source": [
    "n= eval(input(\"enter n:  \"))\n",
    "n1=n%10\n",
    "n=n//10\n",
    "n2=n%10\n",
    "n=n//10\n",
    "n3=n%10\n",
    "n=n//10\n",
    "n4=n%10\n",
    "print(n4)\n",
    "print(n3)\n",
    "print(n2)\n",
    "print(n1)"
   ]
  },
  {
   "cell_type": "code",
   "execution_count": 5,
   "metadata": {},
   "outputs": [
    {
     "name": "stdout",
     "output_type": "stream",
     "text": [
      "enter a 4 digit number:  1234\n",
      "1\n",
      "2\n",
      "3\n",
      "4\n"
     ]
    }
   ],
   "source": [
    "n= eval(input(\"enter a 4 digit number:  \"))\n",
    "d=1000\n",
    "for i in range(0,4):\n",
    "    print(int(n//d))\n",
    "    n=n%d\n",
    "    d=d/10"
   ]
  },
  {
   "cell_type": "markdown",
   "metadata": {},
   "source": [
    "3.33 Implement function reverse_string() that takes as input a three-letter string and\n",
    "returns the string with its characters reversed.\n",
    "\n",
    "reverse_string('abc')\n",
    "\n",
    "'cba'\n",
    "\n",
    "reverse_string('dna')\n",
    "\n",
    "'and'\n"
   ]
  },
  {
   "cell_type": "code",
   "execution_count": 8,
   "metadata": {},
   "outputs": [
    {
     "name": "stdout",
     "output_type": "stream",
     "text": [
      "cba\n"
     ]
    }
   ],
   "source": [
    "def reverse_string(n):\n",
    "    print(n[::-1])\n",
    "reverse_string(\"abc\")    "
   ]
  },
  {
   "cell_type": "markdown",
   "metadata": {},
   "source": [
    "3.34 Implement function pay() that takes as input two arguments: an hourly wage and the\n",
    "number of hours an employee worked in the last week. Your function should compute and\n",
    "return the employee’s pay. Any hours worked beyond 40 is overtime and should be paid at\n",
    "1.5 times the regular hourly wage.\n",
    "\n",
    "\n",
    "pay(10, 35)\n",
    "\n",
    "350\n",
    "\n",
    "pay(10, 45)\n",
    "\n",
    "475.0\n"
   ]
  },
  {
   "cell_type": "code",
   "execution_count": 14,
   "metadata": {},
   "outputs": [
    {
     "name": "stdout",
     "output_type": "stream",
     "text": [
      "475.0\n",
      "350\n"
     ]
    }
   ],
   "source": [
    "def pay(wage,numHr):\n",
    "    if(numHr<=40):\n",
    "        salary=wage*numHr\n",
    "    else:\n",
    "        num=numHr-40\n",
    "        salary=40*wage+num*wage*1.5\n",
    "    return salary\n",
    "\n",
    "result= pay(10,45)\n",
    "print(result)\n",
    "\n",
    "result1= pay(10,35)\n",
    "print(result1)"
   ]
  },
  {
   "cell_type": "markdown",
   "metadata": {},
   "source": [
    "3.35 The probability of getting n heads in a row when tossing a fair coin n times is 2^−n.\n",
    "Implement function prob() that takes a nonnegative integer n as input and returns the\n",
    "probability of n heads in a row when tossing a fair coin n times.\n",
    "\n",
    "prob(1)\n",
    "\n",
    "0.5\n",
    "\n",
    "prob(2)\n",
    "\n",
    "0.25\n"
   ]
  },
  {
   "cell_type": "code",
   "execution_count": 15,
   "metadata": {},
   "outputs": [
    {
     "name": "stdout",
     "output_type": "stream",
     "text": [
      "0.5\n",
      "0.25\n"
     ]
    }
   ],
   "source": [
    "def prob(n):\n",
    "    return(2**-n)\n",
    "p1=prob(1)\n",
    "print(p1)\n",
    "p2= prob(2)\n",
    "print(p2)"
   ]
  },
  {
   "cell_type": "markdown",
   "metadata": {},
   "source": [
    "3.36 Implement function reverse_int() that takes a three-digit integer as input and returns the integer obtained by reversing its digits. For example, if the input is 123, your\n",
    "function should return 321. You are not allowed to use the string data type operations to\n",
    "do this task. Your program should simply read the input as an integer and process it as an\n",
    "integer using operators such as // and %. You may assume that the input integer does not\n",
    "end with the 0 digit.\n",
    "\n",
    "reverse_int(123)\n",
    "\n",
    "321\n",
    "\n",
    "reverse_int(908)\n",
    "\n",
    "809\n"
   ]
  },
  {
   "cell_type": "code",
   "execution_count": 19,
   "metadata": {},
   "outputs": [
    {
     "name": "stdout",
     "output_type": "stream",
     "text": [
      "321\n"
     ]
    }
   ],
   "source": [
    "def reverse_int(n):\n",
    "    rev_no=0\n",
    "    while(n>0):\n",
    "        r=n%10\n",
    "        rev_no=(rev_no*10)+ r\n",
    "        n=n//10\n",
    "   \n",
    "    return rev_no\n",
    "n1=reverse_int(123)\n",
    "print(n1)\n"
   ]
  },
  {
   "cell_type": "markdown",
   "metadata": {},
   "source": [
    "3.37 Implement function points() that takes as input four numbers x1, y1, x2, y2 that\n",
    "are the coordinates of two points (x1, y1) and (x2, y2) in the plane. Your function should\n",
    "compute:\n",
    "\n",
    "• The slope of the line going through the points, unless the line is vertical\n",
    "\n",
    "• The distance between the two points\n",
    "\n",
    "Your function should print the computed slope and distance in the following format. If the\n",
    "line is vertical, the value of the slope should be string 'infinity'. Note: Make sure you\n",
    "convert the slope and distance values to a string before printing them.\n",
    "\n",
    "points(0, 0, 1, 1)\n",
    "\n",
    "The slope is 1.0 and the distance is 1.41421356237\n",
    "\n",
    "points(0, 0, 0, 1)\n",
    "\n",
    "The slope is infinity and the distance is 1.0"
   ]
  },
  {
   "cell_type": "code",
   "execution_count": 31,
   "metadata": {},
   "outputs": [
    {
     "name": "stdout",
     "output_type": "stream",
     "text": [
      "The slope is 1.0  and the distance is 1.4142135623730951\n",
      "The slope is infinity and the distance is 1.0\n"
     ]
    }
   ],
   "source": [
    "def points(x1,y1,x2,y2):\n",
    "    dist=((x2-x1)**2+(y2-y1)**2)**(1/2)\n",
    "    d=str(dist)\n",
    "    if(x2-x1)==0:\n",
    "        print(\"The slope is infinity and the distance is \"+ d)\n",
    "    else:\n",
    "        slope=(y2-y1)/(x2-x1)\n",
    "        s=str(slope)\n",
    "        print(\"The slope is \"+ s +\"  and the distance is \"+d)\n",
    "points(0,0,1,1)\n",
    "points(0,0,0,1)"
   ]
  },
  {
   "cell_type": "markdown",
   "metadata": {},
   "source": [
    "3.38 Implement function abbreviation() that takes a day of the week as input and returns\n",
    "its two-letter abbreviation.\n",
    "\n",
    "abbreviation('Tuesday')\n",
    "\n",
    "'Tu'"
   ]
  },
  {
   "cell_type": "code",
   "execution_count": 1,
   "metadata": {},
   "outputs": [
    {
     "name": "stdout",
     "output_type": "stream",
     "text": [
      "Tu"
     ]
    }
   ],
   "source": [
    "def abbreviation(d):\n",
    "    i=0\n",
    "    while(i<2):\n",
    "        print(d[i],end=\"\")\n",
    "        i=i+1\n",
    "abbreviation(\"Tuesday\")        \n",
    "    "
   ]
  },
  {
   "cell_type": "markdown",
   "metadata": {},
   "source": [
    "3.39 The computer game function collision() checks whether two circular objects collide; it returns True if they do and False otherwise. Each circular object will be given by\n",
    "its radius and the (x, y) coordinates of its center. Thus the function will take six numbers\n",
    "as input: the coordinates x1 and y1 of the center and the radius r1 of the first circle, and the\n",
    "coordinates x2 and y2 of the center and the radius r2 of the second circle.\n",
    "\n",
    "\n",
    "collision(0, 0, 3, 0, 5, 3)\n",
    "\n",
    "True\n",
    "\n",
    "collision(0, 0, 1.4, 2, 2, 1.4)\n",
    "\n",
    "False"
   ]
  },
  {
   "cell_type": "code",
   "execution_count": 6,
   "metadata": {},
   "outputs": [
    {
     "name": "stdout",
     "output_type": "stream",
     "text": [
      "True\n",
      "false\n"
     ]
    }
   ],
   "source": [
    "def collision(x1,y1,r1,x2,y2,r2):\n",
    "    if((((x1-x2)**2+(y1-y2)**2))**0.5 <=(r1+r2)):\n",
    "        print(\"True\")\n",
    "    else:\n",
    "        print(\"false\")\n",
    "collision(0,0,3,0,5,3)\n",
    "collision(0,0,1.4,2,2,1.4)"
   ]
  },
  {
   "cell_type": "markdown",
   "metadata": {},
   "source": [
    "3.40 Implement function partition() that splits a list of soccer players into two groups.\n",
    "More precisely, it takes a list of first names (strings) as input and prints the names of those\n",
    "soccer players whose first name starts with a letter between and including A and M.\n",
    "\n",
    "partition(['Eleanor', 'Evelyn', 'Sammy', 'Owen', 'Gavin'])\n",
    "\n",
    "Eleanor\n",
    "\n",
    "Evelyn\n",
    "\n",
    "Gavin"
   ]
  },
  {
   "cell_type": "code",
   "execution_count": 10,
   "metadata": {},
   "outputs": [
    {
     "name": "stdout",
     "output_type": "stream",
     "text": [
      "Eleanor\n",
      "Evelyn\n",
      "Gavin\n"
     ]
    }
   ],
   "source": [
    "def partition(name):\n",
    "    for i in name:\n",
    "        if(i[0] in 'ABCDEFGHIJKLM'):\n",
    "            print(i)\n",
    "partition(['Eleanor', 'Evelyn', 'Sammy', 'Owen', 'Gavin'])            "
   ]
  },
  {
   "cell_type": "markdown",
   "metadata": {},
   "source": [
    "3.41 Write function lastF() that takes as input two strings of the form 'FirstName' and\n",
    "'LastName', respectively, and returns a string of the form 'LastName, F.'. (Only the\n",
    "initial should be output for the first name.)\n",
    "\n",
    "lastF('Albert', 'Camus')\n",
    "\n",
    "'Camus, A.'\n"
   ]
  },
  {
   "cell_type": "code",
   "execution_count": 11,
   "metadata": {},
   "outputs": [
    {
     "data": {
      "text/plain": [
       "'Camus,A'"
      ]
     },
     "execution_count": 11,
     "metadata": {},
     "output_type": "execute_result"
    }
   ],
   "source": [
    "def lastF(first,last):\n",
    "    name=last+','+first[0]\n",
    "    return name\n",
    "lastF('Albert','Camus')"
   ]
  },
  {
   "cell_type": "markdown",
   "metadata": {},
   "source": [
    "3.42 Implement function avg() that takes as input a list that contains lists of numbers. Each\n",
    "number list represents the grades a particular student received for a course. For example,\n",
    "here is an input list for a class of four students:\n",
    "\n",
    "[[95, 92, 86, 87], [66, 54], [89, 72, 100], [33, 0, 0]]\n",
    "\n",
    "The function avg should print, one per line, every student’s average grade. You may assume\n",
    "that every list of grades is nonempty, but you may not assume that every student has the same\n",
    "number of grades.\n",
    "\n",
    "avg([[95, 92, 86, 87], [66, 54], [89, 72, 100], [33, 0, 0]])\n",
    "\n",
    "90.0\n",
    "\n",
    "60.0\n",
    "\n",
    "87.0\n",
    "\n",
    "11.0\n"
   ]
  },
  {
   "cell_type": "code",
   "execution_count": 12,
   "metadata": {},
   "outputs": [
    {
     "name": "stdout",
     "output_type": "stream",
     "text": [
      "90.0\n",
      "60.0\n",
      "87.0\n",
      "11.0\n"
     ]
    }
   ],
   "source": [
    "def avg(s):\n",
    "    for i in s:\n",
    "        avg=sum(i)/len(i)\n",
    "        print(avg)\n",
    "avg([[95, 92, 86, 87], [66, 54], [89, 72, 100], [33, 0, 0]])        "
   ]
  },
  {
   "cell_type": "code",
   "execution_count": 9,
   "metadata": {},
   "outputs": [],
   "source": [
    "x=[95, 92, 86, 87]"
   ]
  },
  {
   "cell_type": "code",
   "execution_count": 10,
   "metadata": {},
   "outputs": [
    {
     "data": {
      "text/plain": [
       "360"
      ]
     },
     "execution_count": 10,
     "metadata": {},
     "output_type": "execute_result"
    }
   ],
   "source": [
    "sum(x)"
   ]
  },
  {
   "cell_type": "markdown",
   "metadata": {},
   "source": [
    "3.43 The computer game function hit() takes five numbers as input: the x and y coordinates of the center and the radius of a circle C, and the x and y coordinates of a point P.\n",
    "The function should return True if point P is inside or on circle C and False otherwise.\n",
    "\n",
    "hit(0, 0, 3, 3, 0)\n",
    "\n",
    "True\n",
    "\n",
    "hit(0, 0, 3, 4, 0)\n",
    "\n",
    "False"
   ]
  },
  {
   "cell_type": "code",
   "execution_count": 2,
   "metadata": {},
   "outputs": [
    {
     "name": "stdout",
     "output_type": "stream",
     "text": [
      "True\n",
      "False\n"
     ]
    }
   ],
   "source": [
    "def hit(x,y,r,xp,yp):\n",
    "    if((x-xp)**2+(y<yp)**2<=r**2):\n",
    "        print(\"True\")\n",
    "    else:\n",
    "        print(\"False\")\n",
    "hit(0, 0, 3, 3, 0) \n",
    "hit(0, 0, 3, 4, 0)\n",
    "    "
   ]
  },
  {
   "cell_type": "markdown",
   "metadata": {},
   "source": [
    "3.44 Write a function distance() that takes as input a number: the time elapsed (in seconds) between the flash and the sound of thunder. Your function should return the distance\n",
    "to the lightning strike in kilometers. The speed of sound is approximately 340.29 meters per\n",
    "second; there are 1000 meters in one kilometer.\n",
    "\n",
    "distance(3)\n",
    "\n",
    "1.0208700000000002"
   ]
  },
  {
   "cell_type": "code",
   "execution_count": 4,
   "metadata": {},
   "outputs": [
    {
     "name": "stdout",
     "output_type": "stream",
     "text": [
      "1.0208700000000002\n"
     ]
    }
   ],
   "source": [
    "def distance(t):\n",
    "    dist= (340.29*t)/1000\n",
    "    print(dist)\n",
    "distance(3)    "
   ]
  },
  {
   "cell_type": "code",
   "execution_count": null,
   "metadata": {},
   "outputs": [],
   "source": []
  },
  {
   "cell_type": "code",
   "execution_count": null,
   "metadata": {},
   "outputs": [],
   "source": []
  },
  {
   "cell_type": "code",
   "execution_count": null,
   "metadata": {},
   "outputs": [],
   "source": []
  },
  {
   "cell_type": "code",
   "execution_count": null,
   "metadata": {},
   "outputs": [],
   "source": []
  },
  {
   "cell_type": "code",
   "execution_count": null,
   "metadata": {},
   "outputs": [],
   "source": []
  }
 ],
 "metadata": {
  "kernelspec": {
   "display_name": "Python 3",
   "language": "python",
   "name": "python3"
  },
  "language_info": {
   "codemirror_mode": {
    "name": "ipython",
    "version": 3
   },
   "file_extension": ".py",
   "mimetype": "text/x-python",
   "name": "python",
   "nbconvert_exporter": "python",
   "pygments_lexer": "ipython3",
   "version": "3.8.5"
  }
 },
 "nbformat": 4,
 "nbformat_minor": 4
}
