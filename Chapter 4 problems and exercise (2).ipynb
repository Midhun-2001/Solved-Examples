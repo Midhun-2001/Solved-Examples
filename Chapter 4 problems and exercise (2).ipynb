{
 "cells": [
  {
   "cell_type": "markdown",
   "metadata": {},
   "source": [
    "# Practice Problem"
   ]
  },
  {
   "cell_type": "markdown",
   "metadata": {},
   "source": [
    "4.1 Start by executing the assignment:\n",
    "\n",
    "s = '0123456789'\n",
    "\n",
    "Now write expressions using string s and the indexing operator that evaluate \n",
    "to:\n",
    "\n",
    "(a) '234'\n",
    "\n",
    "(b) '78'\n",
    "\n",
    "(c) '1234567'\n",
    "\n",
    "(d) '0123'\n",
    "\n",
    "(e) '789'\n"
   ]
  },
  {
   "cell_type": "code",
   "execution_count": 2,
   "metadata": {},
   "outputs": [],
   "source": [
    "s = '0123456789'"
   ]
  },
  {
   "cell_type": "code",
   "execution_count": 3,
   "metadata": {},
   "outputs": [
    {
     "data": {
      "text/plain": [
       "'234'"
      ]
     },
     "execution_count": 3,
     "metadata": {},
     "output_type": "execute_result"
    }
   ],
   "source": [
    "s[2:5]"
   ]
  },
  {
   "cell_type": "code",
   "execution_count": 4,
   "metadata": {},
   "outputs": [
    {
     "data": {
      "text/plain": [
       "'78'"
      ]
     },
     "execution_count": 4,
     "metadata": {},
     "output_type": "execute_result"
    }
   ],
   "source": [
    "s[7:9]"
   ]
  },
  {
   "cell_type": "code",
   "execution_count": 5,
   "metadata": {},
   "outputs": [
    {
     "data": {
      "text/plain": [
       "'1234567'"
      ]
     },
     "execution_count": 5,
     "metadata": {},
     "output_type": "execute_result"
    }
   ],
   "source": [
    "s[1:8]"
   ]
  },
  {
   "cell_type": "code",
   "execution_count": 6,
   "metadata": {},
   "outputs": [
    {
     "data": {
      "text/plain": [
       "'0123'"
      ]
     },
     "execution_count": 6,
     "metadata": {},
     "output_type": "execute_result"
    }
   ],
   "source": [
    "s[0:4]"
   ]
  },
  {
   "cell_type": "code",
   "execution_count": 7,
   "metadata": {},
   "outputs": [
    {
     "data": {
      "text/plain": [
       "'789'"
      ]
     },
     "execution_count": 7,
     "metadata": {},
     "output_type": "execute_result"
    }
   ],
   "source": [
    "s[7:10]"
   ]
  },
  {
   "cell_type": "markdown",
   "metadata": {},
   "source": [
    "4.2  Assuming that variable forecast has been assigned string\n",
    "\n",
    "'It will be a sunny day today'\n",
    "\n",
    "write Python statements corresponding to these assignments:\n",
    "\n",
    "(a) To variable count, the number of occurrences of string 'day' in string forecast.\n",
    "\n",
    "(b) To variable weather, the index where substring 'sunny' starts.\n",
    "\n",
    "(c) To variable change, a copy of forecast in which every occurrence of substring\n",
    "'sunny' is replaced by 'cloudy'.\n"
   ]
  },
  {
   "cell_type": "code",
   "execution_count": 2,
   "metadata": {},
   "outputs": [],
   "source": [
    "forecast=\"It will be a sunny day today\""
   ]
  },
  {
   "cell_type": "code",
   "execution_count": 3,
   "metadata": {},
   "outputs": [
    {
     "data": {
      "text/plain": [
       "2"
      ]
     },
     "execution_count": 3,
     "metadata": {},
     "output_type": "execute_result"
    }
   ],
   "source": [
    "forecast.count(\"day\")"
   ]
  },
  {
   "cell_type": "code",
   "execution_count": 4,
   "metadata": {},
   "outputs": [
    {
     "data": {
      "text/plain": [
       "13"
      ]
     },
     "execution_count": 4,
     "metadata": {},
     "output_type": "execute_result"
    }
   ],
   "source": [
    "forecast.index(\"sunny\")"
   ]
  },
  {
   "cell_type": "code",
   "execution_count": 6,
   "metadata": {},
   "outputs": [
    {
     "data": {
      "text/plain": [
       "'It will be a cloudy day today'"
      ]
     },
     "execution_count": 6,
     "metadata": {},
     "output_type": "execute_result"
    }
   ],
   "source": [
    "change=forecast.replace(\"sunny\",\"cloudy\")\n",
    "change"
   ]
  },
  {
   "cell_type": "markdown",
   "metadata": {},
   "source": [
    "4.3 Write a statement that prints the values of variables last, first, and middle in one line,\n",
    "separated by a horizontal tab character. (The Python escape sequence for the horizontal tab\n",
    "character is \\t.) If the variables are assigned like this:\n",
    "\n",
    "last = 'Smith'\n",
    "\n",
    "first = 'John'\n",
    "\n",
    "middle = 'Paul'\n",
    "\n",
    "the output should be:\n",
    "\n",
    "Smith John Paul"
   ]
  },
  {
   "cell_type": "code",
   "execution_count": 7,
   "metadata": {},
   "outputs": [
    {
     "name": "stdout",
     "output_type": "stream",
     "text": [
      "Smith \t John \t Paul\n",
      "Smith\tJohn\tPaul\n"
     ]
    }
   ],
   "source": [
    "last = 'Smith'\n",
    "\n",
    "first = 'John'\n",
    "\n",
    "middle = 'Paul'\n",
    "print(last,'\\t',first,'\\t',middle)\n",
    "print(last,first,middle, sep=\"\\t\")"
   ]
  },
  {
   "cell_type": "markdown",
   "metadata": {},
   "source": [
    "4.4  Write function even() that takes a positive integer n as input and prints on the screen all\n",
    "numbers between, and including, 2 and n divisible by 2 or by 3, using this output format:\n",
    "\n",
    "even(17)\n",
    "\n",
    "2, 3, 4, 6, 8, 9, 10, 12, 14, 15, 16,"
   ]
  },
  {
   "cell_type": "code",
   "execution_count": 9,
   "metadata": {},
   "outputs": [
    {
     "name": "stdout",
     "output_type": "stream",
     "text": [
      "2,3,4,6,8,9,10,12,14,15,16,"
     ]
    }
   ],
   "source": [
    "def even(n):\n",
    "    for i in range(2,n+1):\n",
    "        if(i%2==0 or i%3==0):\n",
    "            print(i, end=\",\")\n",
    "            \n",
    "even(16)            "
   ]
  },
  {
   "cell_type": "markdown",
   "metadata": {},
   "source": [
    "4.5 Assume variables first, last, street, number, city, state, zipcode have already\n",
    "been assigned. Write a print statement that creates a mailing label:\n",
    "\n",
    "John Doe\n",
    "\n",
    "123 Main Street\n",
    "\n",
    "AnyCity, AS 09876\n",
    "\n",
    "assuming that:\n",
    "\n",
    "first = 'John'\n",
    "\n",
    "last = 'Doe'\n",
    "\n",
    "street = 'Main Street'\n",
    "\n",
    "number = 123\n",
    "\n",
    "city = 'AnyCity'\n",
    "\n",
    "state = 'AS'\n",
    "\n",
    "zipcode = '09876'"
   ]
  },
  {
   "cell_type": "code",
   "execution_count": 4,
   "metadata": {},
   "outputs": [
    {
     "name": "stdout",
     "output_type": "stream",
     "text": [
      "John Doe\n",
      "123 Main Street\n",
      "AnyCity,AS 09876\n"
     ]
    }
   ],
   "source": [
    "first = 'John'\n",
    "last = 'Doe'\n",
    "street = 'Main Street'\n",
    "number = 123\n",
    "city = 'AnyCity'\n",
    "state = 'AS'\n",
    "zipcode = '09876'\n",
    "print(first+ \" \"+ last+'\\n'+str(number)+\" \"+ street +'\\n'+ city +\",\"+ state+\" \"+zipcode) "
   ]
  },
  {
   "cell_type": "markdown",
   "metadata": {},
   "source": [
    "4.6 Implement function roster() that takes a list containing student information and prints\n",
    "out a roster, as shown below. The student information, consisting of the student’s last name,\n",
    "first name, class, and average course grade, will be stored in that order in a list. Therefore,\n",
    "the input list is a list of lists. Make sure the roster printed out has 10 slots for every string\n",
    "value and 8 for the grade, including 2 slots for the decimal part.\n",
    "\n",
    "students = []\n",
    "\n",
    "students.append(['DeMoines', 'Jim', 'Sophomore', 3.45])\n",
    "\n",
    "students.append(['Pierre', 'Sophie', 'Sophomore', 4.0])\n",
    "\n",
    "students.append(['Columbus', 'Maria', 'Senior', 2.5])\n",
    "\n",
    "students.append(['Phoenix', 'River', 'Junior', 2.45])\n",
    "\n",
    "students.append(['Olympis', 'Edgar', 'Junior', 3.99])\n",
    "\n",
    "roster(students)\n",
    "\n",
    "Last First Class Average Grade\n",
    "\n",
    "DeMoines Jim Sophomore 3.45\n",
    "\n",
    "Pierre Sophie Sophomore 4.00\n",
    "\n",
    "Columbus Maria Senior 2.50\n",
    "\n",
    "Phoenix River Junior 2.45\n",
    "\n",
    "Olympia Edgar Junior 3.99"
   ]
  },
  {
   "cell_type": "code",
   "execution_count": 60,
   "metadata": {},
   "outputs": [
    {
     "name": "stdout",
     "output_type": "stream",
     "text": [
      "Last      First     Class     Average Grade\n",
      "DeMoines  Jim       Sophomore 58544523.55\n",
      "Pierre    Sophie    Sophomore   4.00\n",
      "Columbus  Maria     Senior      2.00\n",
      "Phoenix   River     Junior      1.00\n",
      "Olympis   Edgar     Junior      2.00\n"
     ]
    }
   ],
   "source": [
    "def roaster(students):\n",
    "    print('{:10}{:10}{:10}{:8}'.format('Last','First','Class','Average Grade'))\n",
    "    for i in students:\n",
    "            print('{:10}{:10}{:10}{:6.2f}'.format(i[0],i[1],i[2],i[3]))\n",
    "students = []\n",
    "\n",
    "students.append(['DeMoines', 'Jim', 'Sophomore', 58544523.54569824])\n",
    "\n",
    "students.append(['Pierre', 'Sophie', 'Sophomore', 4])\n",
    "\n",
    "students.append(['Columbus', 'Maria', 'Senior', 2])\n",
    "\n",
    "students.append(['Phoenix', 'River', 'Junior', 1])\n",
    "\n",
    "students.append(['Olympis', 'Edgar', 'Junior', 2])     \n",
    "          \n",
    "roaster(students)          "
   ]
  },
  {
   "cell_type": "markdown",
   "metadata": {},
   "source": [
    "4.7  Start by setting t to be the local time 1, 500, 000, 000 seconds from the start of January 1,\n",
    "1970 UTC:\n",
    "\n",
    "import time\n",
    "\n",
    "t = time.localtime(1500000000)\n",
    "\n",
    "Construct the next strings by using the string time format function strftime():\n",
    "\n",
    "(a) 'Thursday, July 13 2017'\n",
    "\n",
    "(b) '09:40 PM Central Daylight Time on 07/13/2017'\n",
    "\n",
    "(c) 'I will meet you on Thu July 13 at 09:40 PM.'"
   ]
  },
  {
   "cell_type": "code",
   "execution_count": 37,
   "metadata": {},
   "outputs": [
    {
     "name": "stdout",
     "output_type": "stream",
     "text": [
      "Friday ,  July  14  2017\n",
      "08:10 AM  Central Daylight Time on 07/14/2017\n",
      "I will meet you on Fri July 14 at 08:10 AM.\n"
     ]
    }
   ],
   "source": [
    "import time\n",
    "\n",
    "t = time.localtime(1500000000)\n",
    "print(time.strftime('%A ,  %B  %d  %Y',t ))\n",
    "print(time.strftime('%I:%M %p  Central Daylight Time on %m/%d/%Y',t))\n",
    "print(time.strftime('I will meet you on %a %B %d at %I:%M %p.', t))"
   ]
  },
  {
   "cell_type": "markdown",
   "metadata": {},
   "source": [
    "4.8 Write function stringCount() that takes two string inputs—a file name and a target string—\n",
    "and returns the number of occurrences of the target string in the file.\n",
    "\n",
    "stringCount('example.txt', 'line')\n",
    "\n",
    "4\n"
   ]
  },
  {
   "cell_type": "code",
   "execution_count": 66,
   "metadata": {},
   "outputs": [
    {
     "data": {
      "text/plain": [
       "4"
      ]
     },
     "execution_count": 66,
     "metadata": {},
     "output_type": "execute_result"
    }
   ],
   "source": [
    "def stringCount(f,t):\n",
    "    infile=open(f,'r')\n",
    "    content=infile.read()\n",
    "    infile.close()\n",
    "    return content.count(t)\n",
    "stringCount(\"example.txt\", 'line')"
   ]
  },
  {
   "cell_type": "markdown",
   "metadata": {},
   "source": [
    "4.9 Write function words() that takes one input argument—a file name—and returns the list\n",
    "of actual words (without punctuation symbols !,.:;?) in the file.\n",
    "\n",
    "words('example.txt')\n",
    "\n",
    "['The', '3', 'lines', 'in', 'this', 'file', 'end', 'with',\n",
    "'the', 'new', 'line', 'character', 'There', 'is', 'a',\n",
    "'blank', 'line', 'above', 'this', 'line']"
   ]
  },
  {
   "cell_type": "code",
   "execution_count": 67,
   "metadata": {},
   "outputs": [
    {
     "name": "stdout",
     "output_type": "stream",
     "text": [
      "['The', '3', 'lines', 'in', 'this', 'file', 'end', 'with', 'the', 'new', 'line', 'character', 'There', 'is', 'a', 'blank', 'line', 'above', 'this', 'line']\n"
     ]
    }
   ],
   "source": [
    "def words(filename):\n",
    "    infile = open(filename, 'r')\n",
    "    content = infile.read()\n",
    "    infile.close()\n",
    "    table = str.maketrans('!,.:;?', 6*' ')\n",
    "    content=content.translate(table)\n",
    "    word= content.split()\n",
    "    print(word)\n",
    "    \n",
    "words(\"example.txt\")"
   ]
  },
  {
   "cell_type": "markdown",
   "metadata": {},
   "source": [
    "4.10 Implement function myGrep() that takes as input two strings, a file name and a target string,\n",
    "and prints every line of the file that contains the target string as a substring.\n",
    "\n",
    "myGrep('example.txt', 'line')\n",
    "\n",
    "The 3 lines in this file end with the new line character.\n",
    "\n",
    "There is a blank line above this line."
   ]
  },
  {
   "cell_type": "code",
   "execution_count": 73,
   "metadata": {},
   "outputs": [
    {
     "name": "stdout",
     "output_type": "stream",
     "text": [
      "The 3 lines in this file end with the new line character.\n",
      " no\n",
      "There is a blank line above this line . "
     ]
    }
   ],
   "source": [
    "def myGrep(filename, target):\n",
    "    infile = open(filename)\n",
    "    for line in infile:\n",
    "        if target in line:\n",
    "            print(line,end=\" \")\n",
    "        else:\n",
    "            print(\"no\")\n",
    "    infile.close()       \n",
    "myGrep('example.txt', 'line')           "
   ]
  },
  {
   "cell_type": "markdown",
   "metadata": {},
   "source": [
    "# Exercises"
   ]
  },
  {
   "cell_type": "markdown",
   "metadata": {},
   "source": [
    "4.12 Start by running, in the interactive shell, this assignment statement:\n",
    "\n",
    "s = 'abcdefghijklmnopqrstuvwxyz'\n",
    "\n",
    "Now write expressions using string s and the indexing operator that evaluate to 'bcd',\n",
    "'abc', 'defghijklmnopqrstuvwx', 'wxy', and 'wxyz'."
   ]
  },
  {
   "cell_type": "code",
   "execution_count": 75,
   "metadata": {},
   "outputs": [
    {
     "name": "stdout",
     "output_type": "stream",
     "text": [
      "bcd\n",
      "abc\n",
      "defghijklmnopqrstuvwx\n",
      "wxy\n",
      "wxyz\n"
     ]
    }
   ],
   "source": [
    "s = 'abcdefghijklmnopqrstuvwxyz'\n",
    "print(s[1:4])\n",
    "print(s[0:3])\n",
    "print(s[3:24])\n",
    "print(s[-4:-1])\n",
    "print(s[-4:])"
   ]
  },
  {
   "cell_type": "markdown",
   "metadata": {},
   "source": [
    "4.13 Let string s be defined as:\n",
    "\n",
    "s = 'abcdefghijklmnopqrstuvwxyz'\n",
    "\n",
    "Write Python Boolean expressions that correspond to these propositions:\n",
    "\n",
    "(a) The slice consisting of the second and third character of s is 'bc'.\n",
    "\n",
    "(b) The slice consisting of the first 14 characters of s is 'abcdefghijklmn'.\n",
    "\n",
    "(c) The slice of s excluding the first 14 characters is 'opqrstuvwxyz'.\n",
    "\n",
    "(d) The slice of s excluding the first and last characters is 'bcdefghijklmnopqrstuvw'."
   ]
  },
  {
   "cell_type": "code",
   "execution_count": 2,
   "metadata": {},
   "outputs": [],
   "source": [
    "s = 'abcdefghijklmnopqrstuvwxyz'"
   ]
  },
  {
   "cell_type": "code",
   "execution_count": 5,
   "metadata": {},
   "outputs": [
    {
     "data": {
      "text/plain": [
       "True"
      ]
     },
     "execution_count": 5,
     "metadata": {},
     "output_type": "execute_result"
    }
   ],
   "source": [
    "s[1:3] == 'bc'"
   ]
  },
  {
   "cell_type": "code",
   "execution_count": 6,
   "metadata": {},
   "outputs": [
    {
     "data": {
      "text/plain": [
       "True"
      ]
     },
     "execution_count": 6,
     "metadata": {},
     "output_type": "execute_result"
    }
   ],
   "source": [
    "s[0:14] =='abcdefghijklmn' "
   ]
  },
  {
   "cell_type": "code",
   "execution_count": 7,
   "metadata": {},
   "outputs": [
    {
     "data": {
      "text/plain": [
       "True"
      ]
     },
     "execution_count": 7,
     "metadata": {},
     "output_type": "execute_result"
    }
   ],
   "source": [
    "s[14:] == 'opqrstuvwxyz'"
   ]
  },
  {
   "cell_type": "code",
   "execution_count": 8,
   "metadata": {},
   "outputs": [
    {
     "data": {
      "text/plain": [
       "True"
      ]
     },
     "execution_count": 8,
     "metadata": {},
     "output_type": "execute_result"
    }
   ],
   "source": [
    "s[1:-3] ==  'bcdefghijklmnopqrstuvw'"
   ]
  },
  {
   "cell_type": "markdown",
   "metadata": {},
   "source": [
    "4.14 Translate each part into a Python statement:\n",
    "\n",
    "(a) Assign to variable log the next string, which happens to be a fragment of a log of a\n",
    "request for a text file from a web server:\n",
    "128.0.0.1 - - [12/Feb/2011:10:31:08 -0600] \"GET /docs/test.txt HTTP/1.0\"\n",
    "\n",
    "(b) Assign to variable address the substring of log that ends before the first blank space\n",
    "in log, using the string method split() and the indexing operator.\n",
    "\n",
    "(c) Assign to variable date the splice of string log containing the date (12/Feb ...\n",
    "-6000), using the indexing operator on string log."
   ]
  },
  {
   "cell_type": "code",
   "execution_count": 75,
   "metadata": {},
   "outputs": [],
   "source": [
    "log= \"128.0.0.1 - - [12/Feb/2011:10:31:08 -0600] \\\"GET /docs/test.txt HTTP/1.0\\\"\""
   ]
  },
  {
   "cell_type": "code",
   "execution_count": 80,
   "metadata": {},
   "outputs": [],
   "source": [
    "address=log.split(\" \")[0]"
   ]
  },
  {
   "cell_type": "code",
   "execution_count": 89,
   "metadata": {},
   "outputs": [],
   "source": [
    "address=log[0:10]"
   ]
  },
  {
   "cell_type": "code",
   "execution_count": 81,
   "metadata": {},
   "outputs": [
    {
     "data": {
      "text/plain": [
       "'128.0.0.1'"
      ]
     },
     "execution_count": 81,
     "metadata": {},
     "output_type": "execute_result"
    }
   ],
   "source": [
    "address\n"
   ]
  },
  {
   "cell_type": "code",
   "execution_count": 88,
   "metadata": {},
   "outputs": [],
   "source": [
    "date= log[15:41]"
   ]
  },
  {
   "cell_type": "code",
   "execution_count": 93,
   "metadata": {},
   "outputs": [
    {
     "data": {
      "text/plain": [
       "14"
      ]
     },
     "execution_count": 93,
     "metadata": {},
     "output_type": "execute_result"
    }
   ],
   "source": [
    "log.index(\"[\")"
   ]
  },
  {
   "cell_type": "code",
   "execution_count": 89,
   "metadata": {},
   "outputs": [
    {
     "data": {
      "text/plain": [
       "'12/Feb/2011:10:31:08 -0600'"
      ]
     },
     "execution_count": 89,
     "metadata": {},
     "output_type": "execute_result"
    }
   ],
   "source": [
    "date"
   ]
  },
  {
   "cell_type": "markdown",
   "metadata": {},
   "source": [
    "4.15 For each of the below string values of s, write the expression involving s and the string\n",
    "methods split() that evaluates to list:\n",
    "\n",
    "['10', '20', '30', '40', '50', '60']\n",
    "\n",
    "(a) s = '10 20 30 40 50 60'\n",
    "\n",
    "(b) s = '10,20,30,40,50,60'\n",
    "\n",
    "(c) s = '10&20&30&40&50&60'\n",
    "\n",
    "(d) s = '10 - 20 - 30 - 40 - 50 - 60'\n"
   ]
  },
  {
   "cell_type": "code",
   "execution_count": 95,
   "metadata": {},
   "outputs": [
    {
     "data": {
      "text/plain": [
       "['10', '20', '30', '40', '50', '60']"
      ]
     },
     "execution_count": 95,
     "metadata": {},
     "output_type": "execute_result"
    }
   ],
   "source": [
    " s = '10 20 30 40 50 60'\n",
    " s.split(\" \")   "
   ]
  },
  {
   "cell_type": "code",
   "execution_count": 103,
   "metadata": {},
   "outputs": [
    {
     "data": {
      "text/plain": [
       "['10', '20', '30', '40', '50', '60']"
      ]
     },
     "execution_count": 103,
     "metadata": {},
     "output_type": "execute_result"
    }
   ],
   "source": [
    "s = '10,20,30,40,50,60'\n",
    "s.split(\",\")"
   ]
  },
  {
   "cell_type": "code",
   "execution_count": 104,
   "metadata": {},
   "outputs": [
    {
     "data": {
      "text/plain": [
       "['10', '20', '30', '40', '50', '60']"
      ]
     },
     "execution_count": 104,
     "metadata": {},
     "output_type": "execute_result"
    }
   ],
   "source": [
    "s = '10&20&30&40&50&60'\n",
    "s.split(\"&\")   "
   ]
  },
  {
   "cell_type": "code",
   "execution_count": 107,
   "metadata": {},
   "outputs": [
    {
     "data": {
      "text/plain": [
       "['10 ', ' 20 ', ' 30 ', ' 40 ', ' 50 ', ' 60']"
      ]
     },
     "execution_count": 107,
     "metadata": {},
     "output_type": "execute_result"
    }
   ],
   "source": [
    "s = '10 - 20 - 30 - 40 - 50 - 60'\n",
    "s.split(\"-\")"
   ]
  },
  {
   "cell_type": "markdown",
   "metadata": {},
   "source": [
    "4.16 Implement a program that requests three words (strings) from the user. Your program\n",
    "should print Boolean value True if the words were entered in dictionary order; otherwise\n",
    "nothing is printed.\n",
    "\n",
    "Enter first word: bass\n",
    "\n",
    "Enter second word: salmon\n",
    "\n",
    "Enter third word: whitefish\n",
    "\n",
    "True\n"
   ]
  },
  {
   "cell_type": "code",
   "execution_count": 97,
   "metadata": {},
   "outputs": [
    {
     "name": "stdout",
     "output_type": "stream",
     "text": [
      "Enter first word: ab\n",
      "Enter second word: abc\n",
      "Enter third word: abcd\n",
      "True\n"
     ]
    }
   ],
   "source": [
    "w1=input(\"Enter first word: \")\n",
    "w2=input(\"Enter second word: \")\n",
    "w3=input(\"Enter third word: \")\n",
    "if(w1<=w2<=w3):\n",
    "    print(\"True\")"
   ]
  },
  {
   "cell_type": "markdown",
   "metadata": {},
   "source": [
    "4.17 Translate each part into a Python statement using appropriate string methods:\n",
    "\n",
    "(a) Assign to variable message the string 'The secret of this message is that\n",
    "it is secret.'\n",
    "\n",
    "(b) Assign to variable length the length of string message, using operator len().\n",
    "\n",
    "(c) Assign to variable count the number of times the substring 'secret' appears in\n",
    "string message, using string method count().\n",
    "\n",
    "(d) Assign to variable censored a copy of string message with every occurrence of\n",
    "substring 'secret' replaced by 'xxxxxx', using string method replace()."
   ]
  },
  {
   "cell_type": "code",
   "execution_count": 109,
   "metadata": {},
   "outputs": [],
   "source": [
    "message= 'The secret of this message is that it is secret.'"
   ]
  },
  {
   "cell_type": "code",
   "execution_count": 111,
   "metadata": {},
   "outputs": [
    {
     "data": {
      "text/plain": [
       "48"
      ]
     },
     "execution_count": 111,
     "metadata": {},
     "output_type": "execute_result"
    }
   ],
   "source": [
    "length = len(message)\n",
    "length"
   ]
  },
  {
   "cell_type": "code",
   "execution_count": 112,
   "metadata": {},
   "outputs": [
    {
     "data": {
      "text/plain": [
       "2"
      ]
     },
     "execution_count": 112,
     "metadata": {},
     "output_type": "execute_result"
    }
   ],
   "source": [
    "message.count(\"secret\")"
   ]
  },
  {
   "cell_type": "code",
   "execution_count": 113,
   "metadata": {},
   "outputs": [
    {
     "data": {
      "text/plain": [
       "'The xxxxxx of this message is that it is xxxxxx.'"
      ]
     },
     "execution_count": 113,
     "metadata": {},
     "output_type": "execute_result"
    }
   ],
   "source": [
    "censored = message.replace('secret','xxxxxx')\n",
    "censored\n",
    "                           "
   ]
  },
  {
   "cell_type": "markdown",
   "metadata": {},
   "source": [
    "4.18 Suppose variable s has been assigned in this way:\n",
    "s = '''It was the best of times, it was the worst of times; it\n",
    "was the age of wisdom, it was the age of foolishness; it was the\n",
    "epoch of belief, it was the epoch of incredulity; it was ... '''\n",
    "\n",
    "(The beginning of A Tale of Two Cities by Charles Dickens.) Then do the following, in order:\n",
    "\n",
    "(a) Write a sequence of statements that produce a copy of s, named newS, in which characters ., ,, ;, and \\n have been replaced by blank spaces.\n",
    "\n",
    "(b) Remove leading and trailing blank spaces in newS (and name the new string newS).\n",
    "\n",
    "(c) Make all the characters in newS lowercase (and name the new string newS).\n",
    "\n",
    "(d) Compute the number of occurrences in newS of string 'it was'.\n",
    "\n",
    "(e) Change every occurrence of was to is (and name the new string newS).\n",
    "\n",
    "(f) Split newS into a list of words and name the list listS.\n"
   ]
  },
  {
   "cell_type": "code",
   "execution_count": 101,
   "metadata": {},
   "outputs": [],
   "source": [
    "s = '''It was the best of times, it was the worst of times; it was the age of wisdom, it was the age of foolishness; it was the epoch of belief, it was the epoch of incredulity; it was ... '''"
   ]
  },
  {
   "cell_type": "code",
   "execution_count": 102,
   "metadata": {},
   "outputs": [
    {
     "data": {
      "text/plain": [
       "'It was the best of times  it was the worst of times  it was the age of wisdom  it was the age of foolishness  it was the epoch of belief  it was the epoch of incredulity  it was     '"
      ]
     },
     "execution_count": 102,
     "metadata": {},
     "output_type": "execute_result"
    }
   ],
   "source": [
    "newS= s\n",
    "table = str.maketrans('!,.:;?', 6*' ')\n",
    "newS=newS.translate(table)\n",
    "newS"
   ]
  },
  {
   "cell_type": "code",
   "execution_count": 104,
   "metadata": {},
   "outputs": [
    {
     "data": {
      "text/plain": [
       "'It was the best of times  it was the worst of times  it was the age of wisdom  it was the age of foolishness  it was the epoch of belief  it was the epoch of incredulity  it was'"
      ]
     },
     "execution_count": 104,
     "metadata": {},
     "output_type": "execute_result"
    }
   ],
   "source": [
    "newS=newS.strip()\n",
    "newS"
   ]
  },
  {
   "cell_type": "code",
   "execution_count": 13,
   "metadata": {},
   "outputs": [
    {
     "data": {
      "text/plain": [
       "'it was the best of times  it was the worst of times  it was the age of wisdom  it was the age of foolishness  it was the epoch of belief  it was the epoch of incredulity  it was'"
      ]
     },
     "execution_count": 13,
     "metadata": {},
     "output_type": "execute_result"
    }
   ],
   "source": [
    "newS=newS.lower()\n",
    "newS"
   ]
  },
  {
   "cell_type": "code",
   "execution_count": 14,
   "metadata": {},
   "outputs": [
    {
     "data": {
      "text/plain": [
       "7"
      ]
     },
     "execution_count": 14,
     "metadata": {},
     "output_type": "execute_result"
    }
   ],
   "source": [
    "newS.count('it was')"
   ]
  },
  {
   "cell_type": "code",
   "execution_count": 16,
   "metadata": {},
   "outputs": [
    {
     "data": {
      "text/plain": [
       "'it is the best of times  it is the worst of times  it is the age of wisdom  it is the age of foolishness  it is the epoch of belief  it is the epoch of incredulity  it is'"
      ]
     },
     "execution_count": 16,
     "metadata": {},
     "output_type": "execute_result"
    }
   ],
   "source": [
    "newS=newS.replace('was','is')\n",
    "newS"
   ]
  },
  {
   "cell_type": "code",
   "execution_count": 107,
   "metadata": {},
   "outputs": [
    {
     "data": {
      "text/plain": [
       "['It',\n",
       " 'was',\n",
       " 'the',\n",
       " 'best',\n",
       " 'of',\n",
       " 'times',\n",
       " 'it',\n",
       " 'was',\n",
       " 'the',\n",
       " 'worst',\n",
       " 'of',\n",
       " 'times',\n",
       " 'it',\n",
       " 'was',\n",
       " 'the',\n",
       " 'age',\n",
       " 'of',\n",
       " 'wisdom',\n",
       " 'it',\n",
       " 'was',\n",
       " 'the',\n",
       " 'age',\n",
       " 'of',\n",
       " 'foolishness',\n",
       " 'it',\n",
       " 'was',\n",
       " 'the',\n",
       " 'epoch',\n",
       " 'of',\n",
       " 'belief',\n",
       " 'it',\n",
       " 'was',\n",
       " 'the',\n",
       " 'epoch',\n",
       " 'of',\n",
       " 'incredulity',\n",
       " 'it',\n",
       " 'was']"
      ]
     },
     "execution_count": 107,
     "metadata": {},
     "output_type": "execute_result"
    }
   ],
   "source": [
    "listS =newS.split()\n",
    "listS"
   ]
  },
  {
   "cell_type": "markdown",
   "metadata": {},
   "source": [
    "4.19 Write Python statements that print the next formatted outputs using the already assigned variables first, middle, and last:\n",
    "\n",
    "first = 'Marlena'\n",
    "\n",
    "last = 'Sigel'\n",
    "\n",
    "middle = 'Mae'\n",
    "\n",
    "(a) Sigel, Marlena Mae\n",
    "\n",
    "(b) Sigel, Marlena M.\n",
    "\n",
    "(c) Marlena M. Sigel\n",
    "\n",
    "(d) M. M. Sigel\n",
    "\n",
    "(e) Sigel, M."
   ]
  },
  {
   "cell_type": "code",
   "execution_count": 27,
   "metadata": {},
   "outputs": [],
   "source": [
    "first = 'Marlena'\n",
    "\n",
    "last = 'Sigel'\n",
    "\n",
    "middle = 'Mae'"
   ]
  },
  {
   "cell_type": "code",
   "execution_count": 28,
   "metadata": {},
   "outputs": [
    {
     "name": "stdout",
     "output_type": "stream",
     "text": [
      "Sigel, Marlena Mae\n"
     ]
    }
   ],
   "source": [
    "print(last +', '+first+' '+middle)"
   ]
  },
  {
   "cell_type": "code",
   "execution_count": 29,
   "metadata": {},
   "outputs": [
    {
     "name": "stdout",
     "output_type": "stream",
     "text": [
      "Sigel, Marlena M\n"
     ]
    }
   ],
   "source": [
    "print(last +', '+first+' '+middle[0])"
   ]
  },
  {
   "cell_type": "code",
   "execution_count": 30,
   "metadata": {},
   "outputs": [
    {
     "name": "stdout",
     "output_type": "stream",
     "text": [
      "Marlena M Sigel\n"
     ]
    }
   ],
   "source": [
    "print(first +\" \"+middle[0]+ \" \"+ last)"
   ]
  },
  {
   "cell_type": "code",
   "execution_count": 33,
   "metadata": {},
   "outputs": [
    {
     "name": "stdout",
     "output_type": "stream",
     "text": [
      "M. M Sigel\n"
     ]
    }
   ],
   "source": [
    "print(first[0] +\". \"+middle[0]+ \" \"+ last)"
   ]
  },
  {
   "cell_type": "code",
   "execution_count": 35,
   "metadata": {},
   "outputs": [
    {
     "name": "stdout",
     "output_type": "stream",
     "text": [
      "Sigel, M\n"
     ]
    }
   ],
   "source": [
    "print(last +', '+first[0])"
   ]
  },
  {
   "cell_type": "markdown",
   "metadata": {},
   "source": [
    "4.20 Given string values for the sender, recipient, and subject of an email, write a string\n",
    "format expression that uses variables sender, recipient, and subject and that prints as\n",
    "shown here:\n",
    "sender = 'tim@abc.com'\n",
    "\n",
    "recipient = 'tom@xyz.org'\n",
    "\n",
    "subject = 'Hello!'\n",
    "\n",
    "print(???)              # fill in\n",
    "\n",
    "From: tim@abc.com\n",
    "\n",
    "To: tom@xyz.org\n",
    "\n",
    "Subject: Hello!\n"
   ]
  },
  {
   "cell_type": "code",
   "execution_count": 110,
   "metadata": {},
   "outputs": [
    {
     "name": "stdout",
     "output_type": "stream",
     "text": [
      "From:tim@abc.com \n",
      "To: tom@xyz.org \n",
      "subject: Hello!\n"
     ]
    }
   ],
   "source": [
    "sender = 'tim@abc.com'\n",
    "recipient = 'tom@xyz.org'\n",
    "\n",
    "subject = 'Hello!'\n",
    "\n",
    "print(\"From:{} \\nTo: {} \\nsubject: {}\".format(sender,recipient,subject))"
   ]
  },
  {
   "cell_type": "markdown",
   "metadata": {},
   "source": [
    "4.21 Write Python statements that print the values of π and the Euler constant e in the\n",
    "shown formats:\n",
    "\n",
    "(a) pi = 3.1, e = 2.7\n",
    "\n",
    "(b) pi = 3.14, e = 2.72\n",
    "\n",
    "(c) pi = 3.141593e+00, e = 2.718282e+00\n",
    "\n",
    "(d) pi = 3.14159, e = 2.71828"
   ]
  },
  {
   "cell_type": "code",
   "execution_count": 114,
   "metadata": {},
   "outputs": [
    {
     "name": "stdout",
     "output_type": "stream",
     "text": [
      "pi= 3.1,e=2.7\n",
      "pi= 3.14, e= 2.72\n",
      "pi= 3.141593e+00,e=2.718282e+00\n",
      "pi=3.14159,e= 2.71828\n"
     ]
    }
   ],
   "source": [
    "import math\n",
    "pi,e=math.pi,math.e\n",
    "print(\"pi= {0:2.1f},e={1:2.1f}\".format(pi,e))\n",
    "print(\"pi= {0:2.2f}, e= {1:2.2f}\".format(pi,e))\n",
    "print(\"pi= {0:e},e={1:e}\". format(pi,e))\n",
    "print(\"pi={0:2.5f},e= {1:2.5f}\".format(pi,e))\n",
    "      "
   ]
  },
  {
   "cell_type": "markdown",
   "metadata": {},
   "source": [
    "# Problems"
   ]
  },
  {
   "cell_type": "markdown",
   "metadata": {},
   "source": [
    "4.22 Write a function month() that takes a number between 1 and 12 as input and returns\n",
    "the three-character abbreviation of the corresponding month. Do this without using an if\n",
    "statement, just string operations. Hint: Use a string to store the abbreviations in order.\n",
    "\n",
    "month(1)\n",
    "\n",
    "'Jan'\n",
    "\n",
    "month(11)\n",
    "\n",
    "'Nov'"
   ]
  },
  {
   "cell_type": "code",
   "execution_count": 41,
   "metadata": {},
   "outputs": [
    {
     "name": "stdout",
     "output_type": "stream",
     "text": [
      "Jan\n",
      "Nov\n"
     ]
    }
   ],
   "source": [
    "def month(n):\n",
    "    temp = \"JanFebMarAprMayJunJulAugSepOctNovDec\"\n",
    "    return temp[(n-1)*3:n*3]\n",
    "M= month(1)\n",
    "print(M)\n",
    "M= month(11)\n",
    "print(M)\n"
   ]
  },
  {
   "cell_type": "markdown",
   "metadata": {},
   "source": [
    "4.23 Write a function average() that takes no input but requests that the user enter a\n",
    "sentence. Your function should return the average length of a word in the sentence.\n",
    "\n",
    "average()\n",
    "\n",
    "Enter a sentence: A sample sentence\n",
    "\n",
    "5.0"
   ]
  },
  {
   "cell_type": "code",
   "execution_count": 44,
   "metadata": {},
   "outputs": [
    {
     "name": "stdout",
     "output_type": "stream",
     "text": [
      "Enter a sentence: A sample sentence\n"
     ]
    },
    {
     "data": {
      "text/plain": [
       "5.0"
      ]
     },
     "execution_count": 44,
     "metadata": {},
     "output_type": "execute_result"
    }
   ],
   "source": [
    "def average():\n",
    "    sum=0\n",
    "    sen=input(\"Enter a sentence: \")\n",
    "    lst=sen.split(\" \")\n",
    "    for i in lst:\n",
    "        sum =sum +len(i)\n",
    "    avg=sum/(len(lst))\n",
    "    return (avg)\n",
    "average()\n",
    "    \n"
   ]
  },
  {
   "cell_type": "markdown",
   "metadata": {},
   "source": [
    "4.24 Implement function cheer() that takes as input a team name (as a string) and prints\n",
    "a cheer as shown:\n",
    "\n",
    "cheer('Huskies')\n",
    "\n",
    "How do you spell winner?\n",
    "\n",
    "I know, I know!\n",
    "\n",
    "H U S K I E S !\n",
    "\n",
    "And that's how you spell winner!\n",
    "\n",
    "Go Huskies!"
   ]
  },
  {
   "cell_type": "code",
   "execution_count": 49,
   "metadata": {},
   "outputs": [
    {
     "name": "stdout",
     "output_type": "stream",
     "text": [
      "How do you spell winner?\n",
      "I know, I know!\n",
      "HUSKIES!\n",
      "And that's how you spell winner!\n",
      "Go Huskies!\n"
     ]
    }
   ],
   "source": [
    "def cheer(name):\n",
    "    print(\"How do you spell winner?\"+\"\\n\"+ \"I know, I know!\")\n",
    "    for i in name:\n",
    "        print(i.upper(),end=\"\")\n",
    "    print(\"!\") \n",
    "    print(\"And that's how you spell winner!\")\n",
    "    print(\"Go \"+name+\"!\")\n",
    "cheer('Huskies')    \n",
    "    \n",
    "    "
   ]
  },
  {
   "cell_type": "markdown",
   "metadata": {},
   "source": [
    "4.25 Write function vowelCount() that takes a string as input and counts and prints the\n",
    "number of occurrences of vowels in the string.\n",
    "\n",
    "vowelCount('Le Tour de France')\n",
    "\n",
    "a, e, i, o, and u appear, respectively, 1, 3, 0, 1, 1 times."
   ]
  },
  {
   "cell_type": "code",
   "execution_count": 55,
   "metadata": {},
   "outputs": [
    {
     "name": "stdout",
     "output_type": "stream",
     "text": [
      "a,e,i,o and u appear, respectively, 1,3,0,1,1 times.\n"
     ]
    }
   ],
   "source": [
    "def vowelCount(s):\n",
    "    a=s.count('a')\n",
    "    e=s.count('e')\n",
    "    i=s.count('i')\n",
    "    o=s.count('o')\n",
    "    u=s.count('u')\n",
    "    print(\"a,e,i,o and u appear, respectively, {0},{1},{2},{3},{4} times.\".format(a,e,i,o,u))\n",
    "vowelCount('Le Tour de France')"
   ]
  },
  {
   "cell_type": "markdown",
   "metadata": {},
   "source": [
    "4.26 The cryptography function crypto() takes as input a string (i.e., the name of a file in\n",
    "the current directory). The function should print the file on the screen with this modification:\n",
    "Every occurrence of string 'secret' in the file should be replaced with string 'xxxxxx'.\n",
    "\n",
    "crypto('crypto.txt')\n",
    "\n",
    "I will tell you my xxxxxx. But first, I have to explain\n",
    "\n",
    "why it is a xxxxxx.\n",
    "\n",
    "And that is all I will tell you about my xxxxxx.\n"
   ]
  },
  {
   "cell_type": "code",
   "execution_count": 59,
   "metadata": {},
   "outputs": [
    {
     "name": "stdout",
     "output_type": "stream",
     "text": [
      "I will tell you my xxxxxx. But first, I have to explain\n",
      "why it is a xxxxxx.\n",
      "And that is all I will tell you about my xxxxxx.\n"
     ]
    }
   ],
   "source": [
    "def crypto(name):\n",
    "    infile=open(name, 'r')\n",
    "    content = infile.read()\n",
    "    content=content.replace('secret','xxxxxx')\n",
    "    print(content)\n",
    "    infile.close()\n",
    "crypto('crypto.txt')   "
   ]
  },
  {
   "cell_type": "markdown",
   "metadata": {},
   "source": [
    "4.27 Write a function fcopy() that takes as input two file names (as strings) and copies\n",
    "the content of the first file into the second.\n",
    "File: example.txt >>> fcopy('example.txt','output.txt')\n",
    "\n",
    "open('output.txt').read()\n",
    "\n",
    "'The 3 lines in this file end with the new line character.\\n\\n\n",
    "\n",
    "There is a blank line above this line.\\n'"
   ]
  },
  {
   "cell_type": "code",
   "execution_count": 60,
   "metadata": {},
   "outputs": [
    {
     "data": {
      "text/plain": [
       "'The 3 lines in this file end with the new line character.\\n\\nThere is a blank line above this line.'"
      ]
     },
     "execution_count": 60,
     "metadata": {},
     "output_type": "execute_result"
    }
   ],
   "source": [
    "def fcopy(name1,name2):\n",
    "    infile=open(name1,'r')\n",
    "    content = infile.read()\n",
    "    infile.close()\n",
    "    outfile = open(name2,'w')\n",
    "    outfile.write(content)\n",
    "    outfile.close()\n",
    "fcopy('example.txt','output.txt')\n",
    "open('output.txt').read()    "
   ]
  },
  {
   "cell_type": "markdown",
   "metadata": {},
   "source": [
    "4.28 Implement function links() that takes as input the name of an HTML file (as a\n",
    "string) and returns the number of hyperlinks in that file. To do this you will assume that\n",
    "each hyperlink appears in an anchor tag. You also need to know that every anchor tag ends\n",
    "with the substring </a>.\n",
    "\n",
    "Test your code on HTML file twolinks.html or any HTML file downloaded from the\n",
    "web into the folder where your program is.\n",
    "\n",
    "links('twolinks.html') File: twolinks.html\n",
    "\n",
    "2\n"
   ]
  },
  {
   "cell_type": "code",
   "execution_count": 66,
   "metadata": {},
   "outputs": [
    {
     "ename": "FileNotFoundError",
     "evalue": "[Errno 2] No such file or directory: 'twolinks.html'",
     "output_type": "error",
     "traceback": [
      "\u001b[1;31m---------------------------------------------------------------------------\u001b[0m",
      "\u001b[1;31mFileNotFoundError\u001b[0m                         Traceback (most recent call last)",
      "\u001b[1;32m<ipython-input-66-f2c07e3fc490>\u001b[0m in \u001b[0;36m<module>\u001b[1;34m\u001b[0m\n\u001b[0;32m      4\u001b[0m     \u001b[0minfile\u001b[0m\u001b[1;33m.\u001b[0m\u001b[0mclose\u001b[0m\u001b[1;33m(\u001b[0m\u001b[1;33m)\u001b[0m\u001b[1;33m\u001b[0m\u001b[1;33m\u001b[0m\u001b[0m\n\u001b[0;32m      5\u001b[0m     \u001b[1;32mreturn\u001b[0m \u001b[0mtext\u001b[0m\u001b[1;33m.\u001b[0m\u001b[0mcount\u001b[0m\u001b[1;33m(\u001b[0m\u001b[1;34m\"\"\u001b[0m\u001b[1;33m)\u001b[0m\u001b[1;33m\u001b[0m\u001b[1;33m\u001b[0m\u001b[0m\n\u001b[1;32m----> 6\u001b[1;33m \u001b[0mlinks\u001b[0m\u001b[1;33m(\u001b[0m\u001b[1;34m'twolinks.html'\u001b[0m\u001b[1;33m)\u001b[0m\u001b[1;33m\u001b[0m\u001b[1;33m\u001b[0m\u001b[0m\n\u001b[0m",
      "\u001b[1;32m<ipython-input-66-f2c07e3fc490>\u001b[0m in \u001b[0;36mlinks\u001b[1;34m(file)\u001b[0m\n\u001b[0;32m      1\u001b[0m \u001b[1;32mdef\u001b[0m \u001b[0mlinks\u001b[0m\u001b[1;33m(\u001b[0m\u001b[0mfile\u001b[0m\u001b[1;33m)\u001b[0m\u001b[1;33m:\u001b[0m\u001b[1;33m\u001b[0m\u001b[1;33m\u001b[0m\u001b[0m\n\u001b[1;32m----> 2\u001b[1;33m     \u001b[0minfile\u001b[0m \u001b[1;33m=\u001b[0m \u001b[0mopen\u001b[0m\u001b[1;33m(\u001b[0m\u001b[0mfile\u001b[0m\u001b[1;33m,\u001b[0m\u001b[1;34m\"r\"\u001b[0m\u001b[1;33m)\u001b[0m\u001b[1;33m\u001b[0m\u001b[1;33m\u001b[0m\u001b[0m\n\u001b[0m\u001b[0;32m      3\u001b[0m     \u001b[0mtext\u001b[0m \u001b[1;33m=\u001b[0m \u001b[0minfile\u001b[0m\u001b[1;33m.\u001b[0m\u001b[0mread\u001b[0m\u001b[1;33m(\u001b[0m\u001b[1;33m)\u001b[0m\u001b[1;33m\u001b[0m\u001b[1;33m\u001b[0m\u001b[0m\n\u001b[0;32m      4\u001b[0m     \u001b[0minfile\u001b[0m\u001b[1;33m.\u001b[0m\u001b[0mclose\u001b[0m\u001b[1;33m(\u001b[0m\u001b[1;33m)\u001b[0m\u001b[1;33m\u001b[0m\u001b[1;33m\u001b[0m\u001b[0m\n\u001b[0;32m      5\u001b[0m     \u001b[1;32mreturn\u001b[0m \u001b[0mtext\u001b[0m\u001b[1;33m.\u001b[0m\u001b[0mcount\u001b[0m\u001b[1;33m(\u001b[0m\u001b[1;34m\"\"\u001b[0m\u001b[1;33m)\u001b[0m\u001b[1;33m\u001b[0m\u001b[1;33m\u001b[0m\u001b[0m\n",
      "\u001b[1;31mFileNotFoundError\u001b[0m: [Errno 2] No such file or directory: 'twolinks.html'"
     ]
    }
   ],
   "source": [
    "def links(file):\n",
    "    infile = open(file,\"r\")\n",
    "    text = infile.read()\n",
    "    infile.close()\n",
    "    return text.count(\"\")\n",
    "links('twolinks.html')"
   ]
  },
  {
   "cell_type": "markdown",
   "metadata": {},
   "source": [
    "4.29 Write a function stats() that takes one input argument: the name of a text file. The\n",
    "function should print, on the screen, the number of lines, words, and characters in the file;\n",
    "your function should open the file only once.\n",
    "\n",
    "stats('example.txt') File: example.txt\n",
    "\n",
    "line count: 3\n",
    "\n",
    "word count: 20\n",
    "\n",
    "character count: 98"
   ]
  },
  {
   "cell_type": "code",
   "execution_count": 117,
   "metadata": {},
   "outputs": [
    {
     "name": "stdout",
     "output_type": "stream",
     "text": [
      "3\n",
      "20\n",
      "98\n",
      "97\n"
     ]
    }
   ],
   "source": [
    "def stats(file):\n",
    "    infile= open(file,'r')\n",
    "    content = infile.read()\n",
    "    print(content.count('\\n')+1)\n",
    "    print(content.count(\" \")+2)\n",
    "    print(content.count(\"\"))\n",
    "    \n",
    "    print(len(content))\n",
    "stats('example.txt')    "
   ]
  },
  {
   "cell_type": "markdown",
   "metadata": {},
   "source": [
    "4.30 Implement function distribution() that takes as input the name of a file (as a\n",
    "string). This one-line file will contain letter grades separated by blanks. Your function should\n",
    "print the distribution of grades, as shown.\n",
    "\n",
    "distribution('grades.txt') File: grades.txt\n",
    "\n",
    "6 students got A\n",
    "\n",
    "2 students got A-\n",
    "\n",
    "3 students got B+\n",
    "\n",
    "2 students got B\n",
    "\n",
    "2 students got B-\n",
    "\n",
    "4 students got C\n",
    "\n",
    "1 student got C-\n",
    "\n",
    "2 students got F"
   ]
  },
  {
   "cell_type": "code",
   "execution_count": 76,
   "metadata": {},
   "outputs": [
    {
     "name": "stdout",
     "output_type": "stream",
     "text": [
      "6 students got A\n",
      "2 students got A-\n",
      "3 students got B+\n",
      "2 students got B\n",
      "2 students got B-\n",
      "4 students got C\n",
      "1 students got C-\n",
      "2 students got F\n"
     ]
    }
   ],
   "source": [
    "def distribution(file):\n",
    "    infile=open(file,'r')\n",
    "    content=infile.read()\n",
    "    infile.close()\n",
    "    A1=content.count(\"A-\")\n",
    "    A =content.count(\"A\")-A1\n",
    "    B1=content.count(\"B+\")\n",
    "    B2=content.count(\"B-\")\n",
    "    B=content.count(\"B\")-B1-B2\n",
    "    C1=content.count(\"C-\")\n",
    "    C=content.count(\"C\")-C1\n",
    "    F= content.count(\"F\")\n",
    "    print(\"%d students got A\" %A)\n",
    "    print(\"%d students got A-\" %A1)\n",
    "    print(\"%d students got B+\" %B1)\n",
    "    print(\"%d students got B\" %B)\n",
    "    print(\"%d students got B-\" %B2)\n",
    "    print(\"%d students got C\" %C)\n",
    "    print(\"%d students got C-\" %C1)\n",
    "    print(\"%d students got F\" %F)\n",
    "distribution('grades.txt')     \n",
    "    "
   ]
  },
  {
   "cell_type": "code",
   "execution_count": 122,
   "metadata": {},
   "outputs": [
    {
     "name": "stdout",
     "output_type": "stream",
     "text": [
      "6 students got A\n",
      "2 students got A-\n",
      "2 students got B\n",
      "3 students got B+\n",
      "2 students got B-\n",
      "4 students got C\n",
      "1 students got C-\n",
      "2 students got F\n"
     ]
    }
   ],
   "source": [
    "def distribution(file):\n",
    "    infile=open(file,'r')\n",
    "    content=infile.read()\n",
    "    infile.close()\n",
    "    lst=content.split(\" \")\n",
    "    s=list(set(lst))\n",
    "    s.sort()\n",
    "    for i in s:\n",
    "        count=0\n",
    "        for j in lst:\n",
    "            if(i==j):\n",
    "                count+=1\n",
    "        print('{} students got {}'.format(count,i))\n",
    "distribution('grades.txt')        \n",
    "    "
   ]
  },
  {
   "cell_type": "markdown",
   "metadata": {},
   "source": [
    "4.31 Implement function duplicate() that takes as input the name (a string) of a file in the\n",
    "current directory and returns True if the file contains duplicate words and False otherwise.\n",
    "\n",
    "duplicate('Duplicates.txt')\n",
    "\n",
    "True\n",
    "\n",
    "duplicate('noDuplicates.txt')\n",
    "\n",
    "False\n"
   ]
  },
  {
   "cell_type": "code",
   "execution_count": 19,
   "metadata": {},
   "outputs": [
    {
     "data": {
      "text/plain": [
       "True"
      ]
     },
     "execution_count": 19,
     "metadata": {},
     "output_type": "execute_result"
    }
   ],
   "source": [
    "def duplicate(file):\n",
    "    infile=open(file,'r')\n",
    "    text = infile.read()\n",
    "    infile.close()\n",
    "    table = str.maketrans(\",.?!\",4*\" \")\n",
    "    text = text.translate(table)\n",
    "    words=text.split()\n",
    "    word_set= set(words)\n",
    "    if len(word_set) == len(words):\n",
    "        return False\n",
    "    else:\n",
    "        return True\n",
    "                         \n",
    "duplicate('grades.txt')   "
   ]
  },
  {
   "cell_type": "markdown",
   "metadata": {},
   "source": [
    "4.32 The function censor() takes the name of a file (a string) as input. The function should\n",
    "open the file, read it, and then write it into file censored.txt with this modification: Every\n",
    "occurrence of a four-letter word in the file should be replaced with string 'xxxx'.\n",
    "\n",
    "censor('example.txt') \n",
    "\n",
    "Note that this function produces no output, but it does create file censored.txt in the\n",
    "current folder."
   ]
  },
  {
   "cell_type": "code",
   "execution_count": 2,
   "metadata": {},
   "outputs": [
    {
     "name": "stdout",
     "output_type": "stream",
     "text": [
      "<_io.TextIOWrapper name='censored.txt' mode='w' encoding='cp1252'>\n"
     ]
    }
   ],
   "source": [
    "def censor(file):\n",
    "    infile=open(file,'r')\n",
    "    text = infile.read()\n",
    "    infile.close()\n",
    "    words=text.split()\n",
    "    for word in words:\n",
    "        if(len(word)==4):\n",
    "            text= text.replace(word,\"****\")\n",
    "    outfile=open(\"censored.txt\",'w')\n",
    "    outfile.write(\"\")\n",
    "    print(outfile)\n",
    "    outfile.close()\n",
    "censor('example.txt')    \n",
    "    "
   ]
  },
  {
   "cell_type": "code",
   "execution_count": null,
   "metadata": {},
   "outputs": [],
   "source": []
  },
  {
   "cell_type": "code",
   "execution_count": null,
   "metadata": {},
   "outputs": [],
   "source": []
  },
  {
   "cell_type": "code",
   "execution_count": null,
   "metadata": {},
   "outputs": [],
   "source": []
  },
  {
   "cell_type": "code",
   "execution_count": null,
   "metadata": {},
   "outputs": [],
   "source": []
  },
  {
   "cell_type": "code",
   "execution_count": null,
   "metadata": {},
   "outputs": [],
   "source": []
  },
  {
   "cell_type": "code",
   "execution_count": null,
   "metadata": {},
   "outputs": [],
   "source": []
  },
  {
   "cell_type": "code",
   "execution_count": null,
   "metadata": {},
   "outputs": [],
   "source": []
  }
 ],
 "metadata": {
  "kernelspec": {
   "display_name": "Python 3",
   "language": "python",
   "name": "python3"
  },
  "language_info": {
   "codemirror_mode": {
    "name": "ipython",
    "version": 3
   },
   "file_extension": ".py",
   "mimetype": "text/x-python",
   "name": "python",
   "nbconvert_exporter": "python",
   "pygments_lexer": "ipython3",
   "version": "3.8.5"
  }
 },
 "nbformat": 4,
 "nbformat_minor": 4
}
