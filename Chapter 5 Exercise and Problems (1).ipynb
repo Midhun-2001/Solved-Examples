{
 "cells": [
  {
   "cell_type": "markdown",
   "metadata": {},
   "source": [
    "# PROBLEMS"
   ]
  },
  {
   "cell_type": "markdown",
   "metadata": {},
   "source": [
    "5.1 Implement function myBMI() that takes as input a person’s height (in inches) and weight\n",
    "(in pounds) and computes the person’s Body Mass Index (BMI). The BMI formula is:\n",
    " \n",
    " bmi =(weight ∗ 703)/height^2\n",
    "\n",
    "Your functions should print the string 'Underweight' if bmi < 18.5, 'Normal' if 18.5 <=\n",
    "bmi < 25, and Overweight if bmi >= 25.\n",
    "\n",
    "myBMI(190, 75)\n",
    "\n",
    "Normal\n",
    "\n",
    "myBMI(140, 75)\n",
    "\n",
    "Underweight\n"
   ]
  },
  {
   "cell_type": "code",
   "execution_count": 1,
   "metadata": {},
   "outputs": [
    {
     "name": "stdout",
     "output_type": "stream",
     "text": [
      "Normal\n",
      "Underweight\n"
     ]
    }
   ],
   "source": [
    "def myBMI(weight,height):\n",
    "    bmi =(weight*703)/height**2\n",
    "    if bmi<18.5:\n",
    "        print(\"Underweight\")\n",
    "    elif (bmi>=18.5 and bmi<25):\n",
    "        print(\"Normal\")\n",
    "    else:\n",
    "        print(\"Overweight\")\n",
    "myBMI(190, 75)\n",
    "\n",
    "myBMI(140, 75)\n",
    "        \n",
    "        "
   ]
  },
  {
   "cell_type": "markdown",
   "metadata": {},
   "source": [
    "5.2 Write a function named powers() that takes a positive integer n as input and prints, on the\n",
    "screen, all the powers of 2 from 2^1\n",
    "to 2^n.\n",
    "\n",
    "powers(6)\n",
    "\n",
    "2 4 8 16 32 64"
   ]
  },
  {
   "cell_type": "code",
   "execution_count": 2,
   "metadata": {},
   "outputs": [
    {
     "name": "stdout",
     "output_type": "stream",
     "text": [
      "2 4 8 16 32 64 "
     ]
    }
   ],
   "source": [
    "def powers(n):\n",
    "    for i in range(1,n+1):\n",
    "        print(2**i,end=' ')\n",
    "powers(6)        "
   ]
  },
  {
   "cell_type": "markdown",
   "metadata": {},
   "source": [
    "5.3 Write function arithmetic() that takes a list of integers as input and returns True if they\n",
    "form an arithmetic sequence. (A sequence of integers is an arithmetic sequence if the difference between consecutive items of the list is always the same.)\n",
    "\n",
    "arithmetic([3, 6, 9, 12, 15])\n",
    "\n",
    "True\n",
    "\n",
    "arithmetic([3, 6, 9, 11, 14])\n",
    "\n",
    "False\n",
    "\n",
    "arithmetic([3])\n",
    "\n",
    "True\n"
   ]
  },
  {
   "cell_type": "code",
   "execution_count": 2,
   "metadata": {},
   "outputs": [
    {
     "name": "stdout",
     "output_type": "stream",
     "text": [
      "True\n",
      "False\n"
     ]
    }
   ],
   "source": [
    "def arithmetic(n):\n",
    "    d= n[1]-n[0] \n",
    "    for i in range(1,len(n)-1):\n",
    "        if (n[i+1]-n[i]!=d):\n",
    "            return (False)\n",
    "    return True\n",
    "    \n",
    "print(arithmetic([3, 6, 9, 12, 15]))\n",
    "\n",
    "print(arithmetic([3, 6, 9, 11, 14]))\n"
   ]
  },
  {
   "cell_type": "markdown",
   "metadata": {},
   "source": [
    "5.4 Implement function factorial() that takes as input a nonnegative integer and returns its\n",
    "factorial. The factorial of a nonnegative integer n, denoted n!, is defined in this way:\n",
    "n! = 1 if n = 0 or n!=\n",
    "n × (n − 1) × (n − 2) × ... × 2 × 1 if n > 0\n",
    "So, 0! = 1, 3! = 6, and 5! = 120.\n",
    "\n",
    "factorial(0)\n",
    "\n",
    "1\n",
    "\n",
    "factorial(3)\n",
    "\n",
    "6\n",
    "\n",
    "factorial(5)\n",
    "\n",
    "120\n"
   ]
  },
  {
   "cell_type": "code",
   "execution_count": 21,
   "metadata": {},
   "outputs": [
    {
     "name": "stdout",
     "output_type": "stream",
     "text": [
      "1\n",
      "6\n",
      "120\n"
     ]
    }
   ],
   "source": [
    "def factorial(n):\n",
    "    if(n==0):\n",
    "        return 1\n",
    "    else:\n",
    "        return n*factorial(n-1)\n",
    "print(factorial(0))\n",
    "print(factorial(3))\n",
    "print(factorial(5))"
   ]
  },
  {
   "cell_type": "markdown",
   "metadata": {},
   "source": [
    "5.5 An acronym is a word formed by taking the first letters of the words in a phrase and then\n",
    "making a word from them. For example, RAM is an acronym for random access memory.\n",
    "Write a function acronym() that takes a phrase (i.e., a string) as input and then returns the\n",
    "acronym for that phrase. Note: The acronym should be all uppercase, even if the words in\n",
    "the phrase are not capitalized.\n",
    "\n",
    "acronym('Random access memory')\n",
    "\n",
    "'RAM'\n",
    "\n",
    "acronym('central processing unit')\n",
    "\n",
    "'CPU'\n"
   ]
  },
  {
   "cell_type": "code",
   "execution_count": 37,
   "metadata": {},
   "outputs": [
    {
     "name": "stdout",
     "output_type": "stream",
     "text": [
      "RAM\n",
      "CPU\n"
     ]
    }
   ],
   "source": [
    "def acronym(word):\n",
    "    sf=\"\"\n",
    "    lst = word.split()\n",
    "    for i in lst:\n",
    "        sf= sf+i[0]\n",
    "    sf=sf.upper()\n",
    "    return sf\n",
    "print(acronym('Random access memory'))\n",
    "print(acronym('central processing unit'))"
   ]
  },
  {
   "cell_type": "markdown",
   "metadata": {},
   "source": [
    "5.6 Write function divisors() that takes a positive integer n as input and returns the list of\n",
    "all positive divisors of n.\n",
    "\n",
    "divisors(1)\n",
    "\n",
    "[1]\n",
    "\n",
    "divisors(6)\n",
    "\n",
    "[1, 2, 3, 6]\n",
    "\n",
    "divisors(11)\n",
    "\n",
    "[1, 11]"
   ]
  },
  {
   "cell_type": "code",
   "execution_count": 40,
   "metadata": {},
   "outputs": [
    {
     "name": "stdout",
     "output_type": "stream",
     "text": [
      "[1]\n",
      "[1, 2, 3, 6]\n",
      "[1, 11]\n"
     ]
    }
   ],
   "source": [
    "def divisors(n):\n",
    "    lst= []\n",
    "    for i in range(1,n+1):\n",
    "        if(n%i==0):\n",
    "            lst.append(i)\n",
    "    return lst\n",
    "print(divisors(1))\n",
    "print(divisors(6))\n",
    "print(divisors(11))"
   ]
  },
  {
   "cell_type": "markdown",
   "metadata": {},
   "source": [
    "5.7 Write a function xmult() that takes two lists of integers as input and returns a list containing\n",
    "all products of integers from the first list with the integers from the second list.\n",
    "\n",
    "xmult([2], [1, 5])\n",
    "\n",
    "[2, 10]\n",
    "\n",
    "xmult([2, 3], [1, 5])\n",
    "\n",
    "[2, 10, 3, 15]\n",
    "\n",
    "xmult([3, 4, 1], [2, 0])\n",
    "\n",
    "[6, 0, 8, 0, 2, 0]\n"
   ]
  },
  {
   "cell_type": "code",
   "execution_count": 44,
   "metadata": {},
   "outputs": [
    {
     "name": "stdout",
     "output_type": "stream",
     "text": [
      "[2, 10]\n",
      "[2, 10, 3, 15]\n",
      "[6, 0, 8, 0, 2, 0]\n"
     ]
    }
   ],
   "source": [
    "def xmult(lst1,lst2):\n",
    "    lst=[]\n",
    "    for i in range(0,len(lst1)):\n",
    "        for j in range(0,len(lst2)):\n",
    "            mul=lst1[i]*lst2[j]\n",
    "            lst.append(mul)\n",
    "    return lst\n",
    "print(xmult([2], [1, 5]))\n",
    "print(xmult([2, 3], [1, 5]))        \n",
    "print(xmult([3, 4, 1], [2, 0]))        "
   ]
  },
  {
   "cell_type": "markdown",
   "metadata": {},
   "source": [
    "5.8 One way to sort a list of n different numbers in increasing order is to execute n − 1 passes\n",
    "over the numbers in the list. Each pass compares all adjacent numbers in the list and swaps\n",
    "them if they are out of order. At the end of the first pass, the largest item will be the last in\n",
    "the list (at index n−1). Therefore, the second pass can stop before reaching the last element,\n",
    "as it is already in the right position; the second pass will place the second largest item in the\n",
    "next to last position. In general, pass i will compare pairs at indexes 0 and 1, 1 and 2, 2 and\n",
    "3, . . . , and i − 1 and i; at the end of the pass, the ith largest item will be at index n − i.\n",
    "Therefore, after pass n − 1, the list will be in increasing order.\n",
    "\n",
    "Write a function bubbleSort() that takes a list of numbers as input and sorts the list\n",
    "using this approach.\n",
    "\n",
    "lst = [3, 1, 7, 4, 9, 2, 5]\n",
    "\n",
    "bubblesort(lst)\n",
    "\n",
    "lst\n",
    "\n",
    "[1, 2, 3, 4, 5, 7, 9]"
   ]
  },
  {
   "cell_type": "code",
   "execution_count": 12,
   "metadata": {},
   "outputs": [
    {
     "data": {
      "text/plain": [
       "[1, 2, 3, 4, 5, 7, 9]"
      ]
     },
     "execution_count": 12,
     "metadata": {},
     "output_type": "execute_result"
    }
   ],
   "source": [
    "def bubblesort(lst):\n",
    "    for i in range(0,len(lst)-1):\n",
    "        for j in range(0,len(lst)-1):\n",
    "            if(lst[j]>lst[j+1]):\n",
    "                temp = lst[j]\n",
    "                lst[j]=lst[j+1]\n",
    "                lst[j+1]=temp\n",
    "    return lst\n",
    "lst = [3, 1, 7, 4, 9, 2, 5]\n",
    "\n",
    "bubblesort(lst)\n",
    "lst"
   ]
  },
  {
   "cell_type": "markdown",
   "metadata": {},
   "source": [
    "5.9 Write a function add2D() that takes two two-dimensional lists of same size (i.e., same number of rows and columns) as input arguments and increments every entry in the first list with\n",
    "the value of the corresponding entry in the second list.\n",
    "\n",
    "t = [[4, 7, 2, 5], [5, 1, 9, 2], [8, 3, 6, 6]]\n",
    "\n",
    "s = [[0, 1, 2, 0], [0, 1, 1, 1], [0, 1, 0, 0]]\n",
    "\n",
    "add2D(t,s)\n",
    "\n",
    "for row in t:\n",
    "\n",
    "print(row)\n",
    "\n",
    "[4, 8, 4, 5]\n",
    "\n",
    "[5, 2, 10, 3]\n",
    "\n",
    "[8, 4, 6, 6]"
   ]
  },
  {
   "cell_type": "code",
   "execution_count": 13,
   "metadata": {},
   "outputs": [],
   "source": [
    "def add2D(lst1,lst2):\n",
    "    for i in range(0,len(lst1)):\n",
    "        for j in range(0,len(lst1[i])):\n",
    "            lst1[i][j]+=lst2[i][j]\n",
    "    for row in lst1:\n",
    "            print(row)\n",
    "        \n",
    "            "
   ]
  },
  {
   "cell_type": "code",
   "execution_count": 14,
   "metadata": {},
   "outputs": [
    {
     "name": "stdout",
     "output_type": "stream",
     "text": [
      "[4, 8, 4, 5]\n",
      "[5, 2, 10, 3]\n",
      "[8, 4, 6, 6]\n"
     ]
    }
   ],
   "source": [
    "t = [[4, 7, 2, 5], [5, 1, 9, 2], [8, 3, 6, 6]]\n",
    "\n",
    "s = [[0, 1, 2, 0], [0, 1, 1, 1], [0, 1, 0, 0]]\n",
    "\n",
    "add2D(t,s)"
   ]
  },
  {
   "cell_type": "markdown",
   "metadata": {},
   "source": [
    "5.10 Write a function interest() that takes one input, a floating-point interest rate (e.g., 0.06\n",
    "which corresponds to a 6% interest rate). Your function should compute and return how\n",
    "long (in years) it will take for an investment to double in value. Note: The number of years\n",
    "it takes for an investment to double does not depend on the value of the initial investment.\n",
    "\n",
    "interest(0.07)\n",
    "\n",
    "11"
   ]
  },
  {
   "cell_type": "code",
   "execution_count": 16,
   "metadata": {},
   "outputs": [
    {
     "name": "stdout",
     "output_type": "stream",
     "text": [
      "8\n"
     ]
    }
   ],
   "source": [
    "def interest(r):\n",
    "    amount=10000\n",
    "    count=0\n",
    "    while(amount<20000):\n",
    "        count=count+1\n",
    "        amount=amount+amount*r\n",
    "    return count\n",
    "print(interest(0.10))\n",
    "    "
   ]
  },
  {
   "cell_type": "markdown",
   "metadata": {},
   "source": [
    "5.11 It is known that the precise value of e is equal to this infinite sum:\n",
    "\n",
    "1/\n",
    "0! +\n",
    "1/\n",
    "1! +\n",
    "1/\n",
    "2! +\n",
    "1/\n",
    "3! +\n",
    "1/\n",
    "4! +\n",
    "1/\n",
    "5! + . . .\n",
    " \n",
    " An infinite sum is impossible to compute. We can get an approximation of e by computing\n",
    "the sum of the first few terms in the infinite sum. For example, eo =\n",
    "1/\n",
    "0! = 1 is a (lousy)\n",
    "approximation for e. The next sum, e1 =\n",
    "1/\n",
    "0! +\n",
    "1/\n",
    "1! = 2, is better but still quite bad. The next\n",
    "one, e2 =\n",
    "1/\n",
    "0! +\n",
    "1/\n",
    "1! +\n",
    "1/\n",
    "2! = 2.5, looks better. The next few sums show that we are heading in\n",
    "the right direction:\n",
    "\n",
    "e3 =\n",
    "1/\n",
    "0! +\n",
    "1/\n",
    "1! +\n",
    "1/\n",
    "2! +\n",
    "1/\n",
    "3! = 2.6666 . . .\n",
    "\n",
    "e4 =\n",
    "1/\n",
    "0! +\n",
    "1/\n",
    "1! +\n",
    "1/\n",
    "2! +\n",
    "1/\n",
    "3! +\n",
    "1/\n",
    "4! = 2.7083 . . .\n",
    "\n",
    "Now, because, e4 − e3 =\n",
    "1/\n",
    "4! >\n",
    "1/\n",
    "5! +\n",
    "1/\n",
    "6! +\n",
    "1/\n",
    "7! + . . . , we know that e4 is within 1\n",
    "4! of the\n",
    "actual value for e. This gives us a way to compute an approximation of e that is guaranteed\n",
    "to be within a given range of the true value of e.\n",
    "\n",
    "Write a function approxE() that takes as input a float value error and returns a value\n",
    "that approximates constant e to within error. You will do this by generating the sequence\n",
    "of approximation e0, e1, e2, . . . until the difference between the current approximation\n",
    "and the previous one is no greater than error.\n",
    "\n",
    "approxE(0.01)\n",
    "\n",
    "2.7166666666666663\n",
    "\n",
    "approxE(0.000000001)\n",
    "\n",
    "2.7182818284467594"
   ]
  },
  {
   "cell_type": "code",
   "execution_count": 22,
   "metadata": {},
   "outputs": [
    {
     "name": "stdout",
     "output_type": "stream",
     "text": [
      "2.7166666666666663\n",
      "2.7182818284467594\n"
     ]
    }
   ],
   "source": [
    "def approxE(error):\n",
    "    prev = 1 \n",
    "    current = 2 \n",
    "    i = 2\n",
    "    while current-prev > error:\n",
    "        prev = current\n",
    "        current = prev + 1/factorial(i)\n",
    "        i += 1\n",
    "    return current\n",
    "print(approxE(0.01))\n",
    "print(approxE(0.000000001))\n",
    "\n"
   ]
  },
  {
   "cell_type": "markdown",
   "metadata": {},
   "source": [
    "5.12 Implement function test() that takes as input one integer and prints 'Negative',\n",
    "'Zero', or 'Positive' depending on its value.\n",
    "test(-3)\n",
    "\n",
    "Negative\n",
    "\n",
    "test(0)\n",
    "\n",
    "Zero\n",
    "\n",
    "test(3)\n",
    "\n",
    "Positive"
   ]
  },
  {
   "cell_type": "code",
   "execution_count": 2,
   "metadata": {},
   "outputs": [
    {
     "name": "stdout",
     "output_type": "stream",
     "text": [
      "Negative\n",
      "Zero\n",
      "Positive\n"
     ]
    }
   ],
   "source": [
    "def test(n):\n",
    "    if(n<0):\n",
    "        print(\"Negative\")\n",
    "    if(n==0):\n",
    "        print(\"Zero\")\n",
    "    if(n>0):\n",
    "        print(\"Positive\")\n",
    "test(-3)\n",
    "\n",
    "test(0)\n",
    "\n",
    "test(3)\n",
    "        "
   ]
  },
  {
   "cell_type": "markdown",
   "metadata": {},
   "source": [
    "5.13 Read every exercise 5.14 to 5.22 and decide what loop pattern should be used in each.\n"
   ]
  },
  {
   "cell_type": "markdown",
   "metadata": {},
   "source": [
    "5.14 Write function mult3() that takes as input a list of integers and prints only the multiples of 3, one per line.\n",
    "\n",
    "mult3([3, 1, 6, 2, 3, 9, 7, 9, 5, 4, 5])\n",
    "\n",
    "3\n",
    "\n",
    "6\n",
    "\n",
    "3\n",
    "\n",
    "9\n",
    "\n",
    "9\n"
   ]
  },
  {
   "cell_type": "code",
   "execution_count": 4,
   "metadata": {},
   "outputs": [
    {
     "name": "stdout",
     "output_type": "stream",
     "text": [
      "3\n",
      "6\n",
      "3\n",
      "9\n",
      "9\n"
     ]
    }
   ],
   "source": [
    "def mult3(lst):\n",
    "    for i in lst:\n",
    "        if(i%3==0):\n",
    "            print(i)\n",
    "mult3([3, 1, 6, 2, 3, 9, 7, 9, 5, 4, 5])            "
   ]
  },
  {
   "cell_type": "markdown",
   "metadata": {},
   "source": [
    "5.15 Implement the function vowels() that takes as input a string and prints the indexes of\n",
    "all vowels in the string. Hint: A vowel can be defined as any character in string 'aeiouAEIOU'\n",
    "\n",
    "vowels('Hello WORLD')\n",
    "\n",
    "1\n",
    "\n",
    "4\n",
    "\n",
    "7"
   ]
  },
  {
   "cell_type": "code",
   "execution_count": 5,
   "metadata": {},
   "outputs": [
    {
     "name": "stdout",
     "output_type": "stream",
     "text": [
      "1\n",
      "4\n",
      "7\n"
     ]
    }
   ],
   "source": [
    "def vowels(word):\n",
    "    for i in range(0,len(word)):\n",
    "        if(word[i] in \"aeiouAEIOU\"):\n",
    "            print(i)\n",
    "vowels('Hello WORLD')            "
   ]
  },
  {
   "cell_type": "markdown",
   "metadata": {},
   "source": [
    "5.16 Implement function indexes() that takes as input a word (as a string) and a onecharacter letter (as a string) and returns a list of indexes at which the letter occurs in the\n",
    "word.\n",
    "\n",
    "indexes('mississippi', 's')\n",
    "\n",
    "[2, 3, 5, 6]\n",
    "\n",
    "indexes('mississippi', 'i')\n",
    "\n",
    "[1, 4, 7, 10]\n",
    "\n",
    "indexes('mississippi', 'a')\n",
    "\n",
    "[]"
   ]
  },
  {
   "cell_type": "code",
   "execution_count": 10,
   "metadata": {},
   "outputs": [
    {
     "name": "stdout",
     "output_type": "stream",
     "text": [
      "[2, 3, 5, 6]\n",
      "[1, 4, 7, 10]\n",
      "[]\n"
     ]
    }
   ],
   "source": [
    "def indexes(word,letter):\n",
    "    lst=[]\n",
    "    for i in range(0,len(word)):\n",
    "        if(word[i]==letter):\n",
    "            lst.append(i)\n",
    "    print (lst)\n",
    "indexes('mississippi', 's')\n",
    "\n",
    "indexes('mississippi', 'i')\n",
    "\n",
    "indexes('mississippi', 'a')            \n",
    "    "
   ]
  },
  {
   "cell_type": "markdown",
   "metadata": {},
   "source": [
    "5.17 Write function doubles() that takes as input a list of integers and outputs the integers\n",
    "in the list that are exactly twice the previous integer in the list, one per line.\n",
    "\n",
    "doubles([3, 0, 1, 2, 3, 6, 2, 4, 5, 6, 5])\n",
    "\n",
    "2\n",
    "\n",
    "6\n",
    "\n",
    "4"
   ]
  },
  {
   "cell_type": "code",
   "execution_count": 16,
   "metadata": {},
   "outputs": [
    {
     "name": "stdout",
     "output_type": "stream",
     "text": [
      "2\n",
      "6\n",
      "4\n"
     ]
    }
   ],
   "source": [
    "def doubles(lst):\n",
    "    for i in range(0,len(lst)-1):\n",
    "        if(lst[i+1]==2*lst[i]):\n",
    "            print(lst[i+1])\n",
    "doubles([3, 0, 1, 2, 3, 6, 2, 4, 5, 6, 5])            "
   ]
  },
  {
   "cell_type": "markdown",
   "metadata": {},
   "source": [
    "5.18 Implement function four_letter() that takes as input a list of words (i.e., strings)\n",
    "and returns the sublist of all four letter words in the list.\n",
    "\n",
    "four_letter(['dog', 'letter', 'stop', 'door', 'bus', 'dust'])\n",
    "\n",
    "['stop', 'door', 'dust']"
   ]
  },
  {
   "cell_type": "code",
   "execution_count": 18,
   "metadata": {},
   "outputs": [
    {
     "name": "stdout",
     "output_type": "stream",
     "text": [
      "['stop', 'door', 'dust']\n"
     ]
    }
   ],
   "source": [
    "def four_letter(lst):\n",
    "    lst_four=[]\n",
    "    for i in lst:\n",
    "        if (len(i)==4):\n",
    "            lst_four.append(i)\n",
    "    return(lst_four)        \n",
    "print(four_letter(['dog', 'letter', 'stop', 'door', 'bus', 'dust']))            "
   ]
  },
  {
   "cell_type": "markdown",
   "metadata": {},
   "source": [
    "5.19 Write a function inBoth() that takes two lists and returns True if there is an item\n",
    "that is common to both lists and False otherwise.\n",
    "\n",
    "inBoth([3, 2, 5, 4, 7], [9, 0, 1, 3])\n",
    "\n",
    "True"
   ]
  },
  {
   "cell_type": "code",
   "execution_count": 1,
   "metadata": {},
   "outputs": [
    {
     "data": {
      "text/plain": [
       "True"
      ]
     },
     "execution_count": 1,
     "metadata": {},
     "output_type": "execute_result"
    }
   ],
   "source": [
    "def inBoth(lst1,lst2):\n",
    "    for i in lst1:\n",
    "        for j in lst2:\n",
    "            if(i==j):\n",
    "                return True\n",
    "    return False\n",
    "inBoth([3, 2, 5, 4, 7], [9, 5, 1, 3])"
   ]
  },
  {
   "cell_type": "markdown",
   "metadata": {},
   "source": [
    "5.20 Write a function intersect() that takes two lists, each containing no duplicate values, and returns a list containing values that are present in both lists (i.e., the intersection of\n",
    "the two input lists).\n",
    "\n",
    "intersect([3, 5, 1, 7, 9], [4, 2, 6, 3, 9])\n",
    "\n",
    "[3, 9]"
   ]
  },
  {
   "cell_type": "code",
   "execution_count": 23,
   "metadata": {},
   "outputs": [
    {
     "name": "stdout",
     "output_type": "stream",
     "text": [
      "[3, 9]\n"
     ]
    }
   ],
   "source": [
    "def intersect(lst1,lst2):\n",
    "    lst3=[]\n",
    "    for i in lst1:\n",
    "        for j in lst2:\n",
    "            if(i==j):\n",
    "                lst3.append(i)\n",
    "    return lst3            \n",
    "print(intersect([3, 5, 1, 7, 9], [4, 2, 6, 3, 9]))               "
   ]
  },
  {
   "cell_type": "markdown",
   "metadata": {},
   "source": [
    "5.21 Implement the function pair() that takes as input two lists of integers and one integer\n",
    "n and prints the pairs of integers, one from the first input list and the other from the second\n",
    "input list, that add up to n. Each pair should be printed.\n",
    "\n",
    "pair([2, 3, 4], [5, 7, 9, 12], 9)\n",
    "\n",
    "2 7\n",
    "\n",
    "4 5"
   ]
  },
  {
   "cell_type": "code",
   "execution_count": 32,
   "metadata": {},
   "outputs": [
    {
     "name": "stdout",
     "output_type": "stream",
     "text": [
      "2 7 \n",
      "4 5 \n"
     ]
    }
   ],
   "source": [
    "def pair(lst1,lst2,n):\n",
    "    for i in lst1:\n",
    "        for j in lst2:\n",
    "            if(i+j==9):\n",
    "                print(i,j,end=' ')\n",
    "                print(\"\")\n",
    "        \n",
    "pair([2, 3, 4], [5, 7, 9, 12], 9)               \n",
    "    "
   ]
  },
  {
   "cell_type": "markdown",
   "metadata": {},
   "source": [
    "5.22 Implement the function pairSum() that takes as input a list of distinct integers lst\n",
    "and an integer n, and prints the indexes of all pairs of values in lst that sum up to n.\n",
    "\n",
    "pairSum([7, 8, 5, 3, 4, 6], 11)\n",
    "\n",
    "0 4\n",
    "\n",
    "1 3\n",
    "\n",
    "2 5"
   ]
  },
  {
   "cell_type": "code",
   "execution_count": 23,
   "metadata": {},
   "outputs": [
    {
     "name": "stdout",
     "output_type": "stream",
     "text": [
      "0 4 \n",
      "1 3 \n",
      "2 5 \n"
     ]
    }
   ],
   "source": [
    "def pairSum(lst,n):\n",
    "    for i in range(0,len(lst)):\n",
    "        for j in range(i,len(lst)):\n",
    "            if(lst[i]+lst[j]==11):\n",
    "                print(i,j,end=' ')\n",
    "                print(\"\")\n",
    "pairSum([7, 8, 5, 3, 4, 6], 11)                "
   ]
  },
  {
   "cell_type": "markdown",
   "metadata": {},
   "source": [
    "5.23 Write function pay() that takes as input an hourly wage and the number of hours an\n",
    "employee worked in the last week. The function should compute and return the employee’s\n",
    "pay. Overtime work should be paid in this way: Any hours beyond 40 but less than or equal\n",
    "60 should be paid at 1.5 times the regular hourly wage. Any hours beyond 60 should be paid\n",
    "at 2 times the regular hourly wage.\n",
    "\n",
    "pay(10, 35)\n",
    "\n",
    "350\n",
    "\n",
    "pay(10, 45)\n",
    "\n",
    "475.0\n",
    "\n",
    "pay(10, 61)\n",
    "\n",
    "720.0"
   ]
  },
  {
   "cell_type": "code",
   "execution_count": 40,
   "metadata": {},
   "outputs": [
    {
     "name": "stdout",
     "output_type": "stream",
     "text": [
      "350\n",
      "475.0\n",
      "720.0\n"
     ]
    }
   ],
   "source": [
    "def pay(wage,num_hr):\n",
    "    if(num_hr<=40):\n",
    "        pay=wage*num_hr\n",
    "    elif(num_hr>40 and num_hr<=60):\n",
    "        pay=wage*40+((num_hr-40)*1.5*wage)\n",
    "    else:\n",
    "        pay=wage*40+(20*1.5*wage)+((num_hr-60)*2*wage)\n",
    "    return pay  \n",
    "print(pay(10, 35))\n",
    "print(pay(10, 45))\n",
    "print(pay(10, 61))"
   ]
  },
  {
   "cell_type": "markdown",
   "metadata": {},
   "source": [
    "5.24 Write function case() that takes a string as input and returns 'capitalized', 'not\n",
    "capitalized', or 'unknown', depending on whether the string starts with an uppercase\n",
    "letter, lowercase letter, or something other than a letter in the English alphabet, respectively.\n",
    "case('Android')\n",
    "\n",
    "'capitalized'\n",
    "\n",
    "case('3M')\n",
    "\n",
    "'unknown'\n"
   ]
  },
  {
   "cell_type": "code",
   "execution_count": 6,
   "metadata": {},
   "outputs": [
    {
     "name": "stdout",
     "output_type": "stream",
     "text": [
      "capitalized\n",
      "unknown\n"
     ]
    }
   ],
   "source": [
    "def case(word):\n",
    "    if(word[0] in \"ABCDEFGHIJKLMNOPQRSTUVWXYZ\"):\n",
    "        return (\"capitalized\")\n",
    "    elif(word[0] in \"abcdefghijklmnopqrstuvxxyz\"):\n",
    "        return(\"not capitalized\")\n",
    "    else:\n",
    "        return(\"unknown\")\n",
    "print(case('Android'))\n",
    "\n",
    "print(case('3M'))"
   ]
  },
  {
   "cell_type": "markdown",
   "metadata": {},
   "source": [
    "5.25 Implement function leap() that takes one input argument—a year—and returns True\n",
    "if the year is a leap year and False otherwise. (A year is a leap year if it is divisible by 4 but\n",
    "not by 100, unless it is divisible by 400 in which case it is a leap year. For example, 1700,\n",
    "1800 and 1900 are not leap years but 1600 and 2000 are.)\n",
    "\n",
    "leap(2008)\n",
    "\n",
    "True\n",
    "\n",
    "leap(1900)\n",
    "\n",
    "False\n",
    "\n",
    "leap(2000)\n",
    "\n",
    "True"
   ]
  },
  {
   "cell_type": "code",
   "execution_count": 47,
   "metadata": {},
   "outputs": [
    {
     "name": "stdout",
     "output_type": "stream",
     "text": [
      "True\n",
      "False\n",
      "True\n"
     ]
    }
   ],
   "source": [
    "def leap(year):\n",
    "    if(year%4==0 and year%100!=0):\n",
    "        return True\n",
    "    elif(year%400==0):\n",
    "        return True\n",
    "    else:\n",
    "        return False\n",
    "print(leap(2008))\n",
    "print(leap(1900))\n",
    "print(leap(2000))   \n",
    "        "
   ]
  },
  {
   "cell_type": "markdown",
   "metadata": {},
   "source": [
    "5.26 Rock, Paper, Scissors is a two-player game in which each player chooses one of three\n",
    "items. If both players choose the same item, the game is tied. Otherwise, the rules that\n",
    "determine the winner are:\n",
    "(a) Rock always beats Scissors (Rock crushes Scissors)\n",
    "(b) Scissors always beats Paper (Scissors cut Paper)\n",
    "(c) Paper always beats Rock (Paper covers Rock)\n",
    "Implement function rps() that takes the choice ('R', 'P', or 'S') of player 1 and the\n",
    "choice of player 2, and returns −1 if player 1 wins, 1 if player 2 wins, or 0 if there is a tie.\n",
    "\n",
    "\n",
    "rps('R', 'P')\n",
    "\n",
    "1\n",
    "\n",
    "rps('R', 'S')\n",
    "\n",
    "-1\n",
    "\n",
    "rps('S', 'S')\n",
    "\n",
    "0\n"
   ]
  },
  {
   "cell_type": "code",
   "execution_count": 51,
   "metadata": {},
   "outputs": [
    {
     "name": "stdout",
     "output_type": "stream",
     "text": [
      "1\n",
      "-1\n",
      "0\n"
     ]
    }
   ],
   "source": [
    "def rps(p1,p2):\n",
    "    if (p1==p2):\n",
    "        return 0\n",
    "    elif((p1=='R'and p2=='S') or (p1=='S' and p2=='P') or (p1=='P' and p1=='R')):\n",
    "        return -1\n",
    "    else:\n",
    "        return 1\n",
    "print(rps('R', 'P'))\n",
    "print(rps('R', 'S'))\n",
    "print(rps('S', 'S'))   \n",
    "        "
   ]
  },
  {
   "cell_type": "markdown",
   "metadata": {},
   "source": [
    "5.27 Write function letter2number() that takes as input a letter grade (A, B, C, D, F,\n",
    "possibly with a − or +) and returns the corresponding number grade. The numeric values\n",
    "for A, B, C, D, and F are 4, 3, 2, 1, 0. A + increases the number grade value by 0.3 and a −\n",
    "decreases it by 0.3.\n",
    "\n",
    "letter2number('A-')\n",
    "\n",
    "3.7\n",
    "\n",
    "letter2number('B+')\n",
    "\n",
    "3.3\n",
    "\n",
    "letter2number('D')\n",
    "\n",
    "1.0\n"
   ]
  },
  {
   "cell_type": "code",
   "execution_count": 55,
   "metadata": {},
   "outputs": [
    {
     "name": "stdout",
     "output_type": "stream",
     "text": [
      "3.7\n",
      "3.3\n",
      "1\n"
     ]
    }
   ],
   "source": [
    "def letter2number(grade):\n",
    "    num=4-(ord(grade[0])-ord(\"A\"))\n",
    "    if len(grade)>1:\n",
    "        if(grade[1]=='+'):\n",
    "            num=num+0.3\n",
    "        else:\n",
    "            num=num-0.3\n",
    "    return num\n",
    "print(letter2number('A-'))\n",
    "\n",
    "print(letter2number('B+'))\n",
    "print(letter2number('D'))    \n",
    "        "
   ]
  },
  {
   "cell_type": "code",
   "execution_count": 4,
   "metadata": {},
   "outputs": [
    {
     "data": {
      "text/plain": [
       "66"
      ]
     },
     "execution_count": 4,
     "metadata": {},
     "output_type": "execute_result"
    }
   ],
   "source": []
  },
  {
   "cell_type": "code",
   "execution_count": 16,
   "metadata": {},
   "outputs": [
    {
     "name": "stdout",
     "output_type": "stream",
     "text": [
      "3.7\n",
      "3.3\n",
      "1\n",
      "65\n"
     ]
    }
   ],
   "source": [
    "def letter2number(grade):\n",
    "    A,B,C,D,E=4,3,2,1,0\n",
    "    while(len(grade)>1):\n",
    "        if(grade[1]=='+'):\n",
    "            return eval(grade[0])+0.3\n",
    "        else:\n",
    "            return eval(grade[0])-0.3\n",
    "        \n",
    "    return eval(grade[0])\n",
    "\n",
    "print(letter2number('A-'))\n",
    "\n",
    "print(letter2number('B+'))\n",
    "print(letter2number('D'))   \n",
    "    \n",
    "    \n",
    "print(ord('A'))    \n",
    "    "
   ]
  },
  {
   "cell_type": "markdown",
   "metadata": {},
   "source": [
    "5.28 Write function geometric() that takes a list of integers as input and returns True if\n",
    "the integers in the list form a geometric sequence. A sequence a0, a1, a2, a3, a4, . . . , an−2,\n",
    "an − 1 is a geometric sequence if the ratios a1/a0, a2/a1, a3/a2, a4/a3, . . . , an−1/an−2\n",
    "are all equal.\n",
    "\n",
    "geometric([2, 4, 8, 16, 32, 64, 128, 256])\n",
    "\n",
    "True\n",
    "\n",
    "geometric([2, 4, 6, 8])\n",
    "\n",
    "False"
   ]
  },
  {
   "cell_type": "code",
   "execution_count": 20,
   "metadata": {},
   "outputs": [
    {
     "name": "stdout",
     "output_type": "stream",
     "text": [
      "True\n",
      "False\n"
     ]
    }
   ],
   "source": [
    "def geometric(lst):\n",
    "    gd=lst[1]/lst[0]\n",
    "    for i in range(1,len(lst)-1):\n",
    "        if(lst[i+1]/lst[1]==gd):\n",
    "            return True\n",
    "        else:\n",
    "            return False\n",
    "print(geometric([2, 4, 8, 16, 32, 64, 128, 256]))\n",
    "print(geometric([2, 4, 6, 8]))      "
   ]
  },
  {
   "cell_type": "markdown",
   "metadata": {},
   "source": [
    "5.29 Write function lastfirst() that takes one argument—a list of strings of the format\n",
    "<LastName, FirstName>—and returns a list consisting two lists:\n",
    "\n",
    "(a) A list of all the first names\n",
    "\n",
    "(b) A list of all the last names\n",
    "\n",
    "lastfirst(['Gerber, Len', 'Fox, Kate', 'Dunn, Bob'])\n",
    "\n",
    "[['Len', 'Kate', 'Bob'], ['Gerber', 'Fox', 'Dunn']]"
   ]
  },
  {
   "cell_type": "code",
   "execution_count": 71,
   "metadata": {},
   "outputs": [
    {
     "data": {
      "text/plain": [
       "[[' Len', ' Kate', ' Bob'], ['Gerber', 'Fox', 'Dunn']]"
      ]
     },
     "execution_count": 71,
     "metadata": {},
     "output_type": "execute_result"
    }
   ],
   "source": [
    "def lastfirst(lst):\n",
    "    lst1,lst2=[],[]\n",
    "    for i in lst:\n",
    "        n=i.index(',')\n",
    "        lst1.append(i[0:n])\n",
    "    for i in lst:\n",
    "        n1=i.index(',')\n",
    "        lst2.append(i[n1+1:])\n",
    "    return (lst2,lst1)\n",
    "lst=lastfirst(['Gerber, Len', 'Fox, Kate', 'Dunn, Bob'])\n",
    "lst=list(lst)\n",
    "lst"
   ]
  },
  {
   "cell_type": "markdown",
   "metadata": {},
   "source": [
    "5.30 Develop the function many() that takes as input the name of a file in the current\n",
    "directory (as a string) and outputs the number of words of length 1, 2, 3, and 4. Test your\n",
    "function on file sample.txt.\n",
    "\n",
    "many('sample.txt')\n",
    "\n",
    "Words of length 1 : 2\n",
    "\n",
    "Words of length 2 : 5\n",
    "\n",
    "Words of length 3 : 1\n",
    "\n",
    "Words of length 4 : 10"
   ]
  },
  {
   "cell_type": "code",
   "execution_count": 81,
   "metadata": {},
   "outputs": [
    {
     "name": "stdout",
     "output_type": "stream",
     "text": [
      "Word of length 1: 3\n",
      "Word of length 2: 2\n",
      "Word of length 3: 4\n",
      "Word of length 4: 7\n"
     ]
    }
   ],
   "source": [
    "def many(file):\n",
    "    infile=open(file,'r')\n",
    "    content=infile.read()\n",
    "    infile.close()\n",
    "    one,two,three,four=0,0,0,0\n",
    "    lst=content.split()\n",
    "    for i in lst:\n",
    "        if(len(i)==1):\n",
    "            one+=1\n",
    "        elif(len(i)==2):\n",
    "            two+=1\n",
    "        elif(len(i)==3):\n",
    "            three+=1\n",
    "        elif(len(i)==4):\n",
    "            four+=1\n",
    "    print(\"Word of length 1: %d\" %one)\n",
    "    print(\"Word of length 2: %d\" %two)\n",
    "    print(\"Word of length 3: %d\" %three)\n",
    "    print(\"Word of length 4: %d\" %four)\n",
    "many('example.txt')    \n",
    "    "
   ]
  },
  {
   "cell_type": "markdown",
   "metadata": {},
   "source": [
    "5.31 Write a function subsetSum() that takes as input a list of positive numbers and a\n",
    "positive number target. Your function should return True if there are three numbers in\n",
    "the list that add up to target. For example, if the input list is [5, 4, 10, 20, 15, 19]\n",
    "and target is 38, then True should be returned since 4 + 15 + 19 = 38. However, if the input list is the same but the target value is 10, then the returned value should be False\n",
    "because 10 is not the sum of any three numbers in the given list.\n",
    "\n",
    "subsetSum([5, 4, 10, 20, 15, 19], 38)\n",
    "\n",
    "True\n",
    "\n",
    "subsetSum([5, 4, 10, 20, 15, 19], 10)\n",
    "\n",
    "False\n"
   ]
  },
  {
   "cell_type": "code",
   "execution_count": 26,
   "metadata": {},
   "outputs": [
    {
     "name": "stdout",
     "output_type": "stream",
     "text": [
      "True\n",
      "False\n"
     ]
    }
   ],
   "source": [
    "def subsetSum(lst,n):\n",
    "    for i in range(0,len(lst)):\n",
    "        for j in range(i+1,len(lst)):\n",
    "            for k in range(j+1,len(lst)):\n",
    "                if(lst[i]+lst[j]+lst[k]==n):\n",
    "                    return True\n",
    "    return False\n",
    "print(subsetSum([5, 4, 10, 20, 15, 19], 38))\n",
    "print(subsetSum([5, 0, 10, 20, 15, 19], 10))\n",
    "        "
   ]
  },
  {
   "cell_type": "markdown",
   "metadata": {},
   "source": [
    "5.32 Implement function fib() that takes a nonnegative integer n as input and returns the\n",
    "nth Fibonacci number.\n",
    "\n",
    "fib(0)\n",
    "\n",
    "1\n",
    "\n",
    "fib(4)\n",
    "\n",
    "5\n",
    "\n",
    "fib(8)\n",
    "\n",
    "34\n"
   ]
  },
  {
   "cell_type": "code",
   "execution_count": 108,
   "metadata": {},
   "outputs": [
    {
     "name": "stdout",
     "output_type": "stream",
     "text": [
      "1\n",
      "5\n",
      "34\n"
     ]
    }
   ],
   "source": [
    "def fib(n):\n",
    "    a=0\n",
    "    b=1\n",
    "    c=a+b\n",
    "    for i in range(0,n):\n",
    "        c= a+b\n",
    "        a=b\n",
    "        b=c\n",
    "    return c\n",
    "print(fib(0))\n",
    "print(fib(4))\n",
    "print(fib(8))"
   ]
  },
  {
   "cell_type": "markdown",
   "metadata": {},
   "source": [
    "5.33 Implement a function mystery() that takes as input a positive integer n and answers\n",
    "this question: How many times can n be halved (using integer division) before reaching 1?\n",
    "This value should returned.\n",
    "\n",
    "mystery(4)\n",
    "\n",
    "2\n",
    "\n",
    "mystery(11)\n",
    "\n",
    "3\n",
    "\n",
    "mystery(25)\n",
    "\n",
    "4"
   ]
  },
  {
   "cell_type": "code",
   "execution_count": 111,
   "metadata": {},
   "outputs": [
    {
     "name": "stdout",
     "output_type": "stream",
     "text": [
      "2\n",
      "3\n",
      "4\n"
     ]
    }
   ],
   "source": [
    "def mystery(n):\n",
    "    count=0\n",
    "    while(n>1):\n",
    "        count+=1\n",
    "        n=n//2\n",
    "    return count    \n",
    "print(mystery(4)) \n",
    "print(mystery(11)) \n",
    "print(mystery(25)) "
   ]
  },
  {
   "cell_type": "markdown",
   "metadata": {},
   "source": [
    "5.34 Write a function statement() that takes as input a list of floating-point numbers, with\n",
    "positive numbers representing deposits to and negative numbers representing withdrawals\n",
    "from a bank account. Your function should return a list of two floating-point numbers; the\n",
    "first will be the sum of the deposits, and the second (a negative number) will be the sum of\n",
    "the withdrawals.\n",
    "\n",
    "statement([30.95, -15.67, 45.56, -55.00, 43.78])\n",
    "\n",
    "[120.29, -70.67]\n"
   ]
  },
  {
   "cell_type": "code",
   "execution_count": 113,
   "metadata": {},
   "outputs": [
    {
     "data": {
      "text/plain": [
       "[120.29, -70.67]"
      ]
     },
     "execution_count": 113,
     "metadata": {},
     "output_type": "execute_result"
    }
   ],
   "source": [
    "def statement(lst):\n",
    "    withdrawal=0\n",
    "    deposit=0\n",
    "    for i in lst:\n",
    "        if(i<0):\n",
    "            withdrawal+=i\n",
    "        else:\n",
    "            deposit+=i\n",
    "    total=[deposit,withdrawal]\n",
    "    return total\n",
    "statement([30.95, -15.67, 45.56, -55.00, 43.78])\n",
    "    "
   ]
  },
  {
   "cell_type": "markdown",
   "metadata": {},
   "source": [
    "5.35 Implement function pixels() that takes as input a two-dimensional list of nonnegative integer entries (representing the values of pixels of an image) and returns the number of\n",
    "entries that are positive (i.e., the number of pixels that are not dark). Your function should\n",
    "work on two-dimensional lists of any size.\n",
    "\n",
    "l = [[0, 156, 0, 0], [34, 0, 0, 0], [23, 123, 0, 34]]\n",
    "\n",
    "pixels(l)\n",
    "\n",
    "5\n",
    "\n",
    "l = [[123, 56, 255], [34, 0, 0], [23, 123, 0], [3, 0, 0]]\n",
    "\n",
    "pixels(l)\n",
    "\n",
    "7\n"
   ]
  },
  {
   "cell_type": "code",
   "execution_count": 27,
   "metadata": {},
   "outputs": [
    {
     "name": "stdout",
     "output_type": "stream",
     "text": [
      "5\n",
      "7\n"
     ]
    }
   ],
   "source": [
    "def pixels(lst):\n",
    "    count=0\n",
    "    for i in lst:\n",
    "        for j in i:\n",
    "            if(j>0):\n",
    "                count+=1\n",
    "    return count\n",
    "l = [[0, 156, 0, 0], [34, 0, 0, 0], [23, 123, 0, 34]]\n",
    "print(pixels(l))\n",
    "I = [[123, 56, 255], [34, 0, 0], [23, 123, 0], [3, 0, 0]]\n",
    "print(pixels(I))"
   ]
  },
  {
   "cell_type": "markdown",
   "metadata": {},
   "source": [
    "5.36 Implement function prime() that takes a positive integer as input and returns True\n",
    "if it is a prime number and False otherwise.\n",
    "\n",
    "prime(2)\n",
    "\n",
    "True\n",
    "\n",
    "prime(17)\n",
    "\n",
    "True\n",
    "\n",
    "prime(21)\n",
    "\n",
    "False"
   ]
  },
  {
   "cell_type": "code",
   "execution_count": 122,
   "metadata": {},
   "outputs": [
    {
     "name": "stdout",
     "output_type": "stream",
     "text": [
      "True\n",
      "True\n",
      "False\n"
     ]
    }
   ],
   "source": [
    "def prime(n):\n",
    "    for i in range(2,n):\n",
    "        if(n%i==0):\n",
    "            return False\n",
    "    return True\n",
    "print(prime(2))\n",
    "print(prime(17))\n",
    "print(prime(21))\n",
    "    "
   ]
  },
  {
   "cell_type": "markdown",
   "metadata": {},
   "source": [
    "5.37 Write function mssl() (minimum sum sublist) that takes as input a list of integers.\n",
    "It then computes and returns the sum of the maximum sum sublist of the input list. The\n",
    "maximum sum sublist is a sublist (slice) of the input list whose sum of entries is largest.\n",
    "The empty sublist is defined to have sum 0. For example, the maximum sum sublist of the\n",
    "list\n",
    "\n",
    "[4, -2, -8, 5, -2, 7, 7, 2, -6, 5]\n",
    "\n",
    "is [5, -2, 7, 7, 2] and the sum of its entries is 19.\n",
    "\n",
    "l = [4, -2, -8, 5, -2, 7, 7, 2, -6, 5]\n",
    "\n",
    "mssl(l)\n",
    "\n",
    "19\n",
    "\n",
    "mssl([3,4,5])\n",
    "\n",
    "12\n",
    "\n",
    "mssl([-2,-3,-5])\n",
    "\n",
    "0\n",
    "\n",
    "In the last example, the maximum sum sublist is the empty sublist because all list items are\n",
    "negative.\n"
   ]
  },
  {
   "cell_type": "code",
   "execution_count": 48,
   "metadata": {},
   "outputs": [
    {
     "data": {
      "text/plain": [
       "19"
      ]
     },
     "execution_count": 48,
     "metadata": {},
     "output_type": "execute_result"
    }
   ],
   "source": [
    "def mssl(lst):\n",
    "    max=0\n",
    "    for i in range(0,len(lst)):\n",
    "        for j in range(i+1,len(lst)):\n",
    "            if sum(lst[i:j])>max:\n",
    "                max=sum(lst[i:j])\n",
    "    if max<0:\n",
    "        max=0\n",
    "    return max\n",
    "mssl([3,4,5])\n",
    "mssl([-2,-3,-5])\n",
    "l = [4, -2, -8, 5, -2, 7, 7, 2, -6, 5]\n",
    "\n",
    "mssl(l)"
   ]
  },
  {
   "cell_type": "code",
   "execution_count": 46,
   "metadata": {},
   "outputs": [
    {
     "data": {
      "text/plain": [
       "30"
      ]
     },
     "execution_count": 46,
     "metadata": {},
     "output_type": "execute_result"
    }
   ],
   "source": [
    "def mssl(lst):\n",
    "    s=sum(lst)\n",
    "    for i in range(0,len(lst)):\n",
    "        m=min(lst)\n",
    "        lst.remove(m)\n",
    "        s1=sum(lst)\n",
    "        if(s1>s):\n",
    "            s=sum(lst)\n",
    "    if s<0:\n",
    "        s=0\n",
    "    return s \n"
   ]
  },
  {
   "cell_type": "code",
   "execution_count": 40,
   "metadata": {},
   "outputs": [
    {
     "name": "stdout",
     "output_type": "stream",
     "text": [
      "[1, 2, 4]\n"
     ]
    }
   ],
   "source": [
    "lst=[1,2,3,4]\n",
    "sum(lst)\n",
    "lst.pop(2)\n",
    "print(lst)"
   ]
  },
  {
   "cell_type": "code",
   "execution_count": 127,
   "metadata": {},
   "outputs": [
    {
     "data": {
      "text/plain": [
       "19"
      ]
     },
     "execution_count": 127,
     "metadata": {},
     "output_type": "execute_result"
    }
   ],
   "source": [
    "l = [4, -2, -8, 5, -2, 7, 7, 2, -6, 5]\n",
    "\n",
    "mssl(l)"
   ]
  },
  {
   "cell_type": "code",
   "execution_count": 128,
   "metadata": {},
   "outputs": [
    {
     "data": {
      "text/plain": [
       "12"
      ]
     },
     "execution_count": 128,
     "metadata": {},
     "output_type": "execute_result"
    }
   ],
   "source": [
    "mssl([3,4,5])"
   ]
  },
  {
   "cell_type": "code",
   "execution_count": 129,
   "metadata": {},
   "outputs": [
    {
     "data": {
      "text/plain": [
       "0"
      ]
     },
     "execution_count": 129,
     "metadata": {},
     "output_type": "execute_result"
    }
   ],
   "source": [
    "mssl([-2,-3,-5])"
   ]
  },
  {
   "cell_type": "markdown",
   "metadata": {},
   "source": [
    "5.38 Write function collatz() that takes a positive integer x as input and prints the Collatz\n",
    "sequence starting at x. A Collatz sequence is obtained by repeatedly applying this rule to\n",
    "the previous number x in the sequence:\n",
    "\n",
    "x ={ x/2 if x is even\n",
    "\n",
    "   {3x + 1 if x is odd.\n",
    "   \n",
    "Your function should stop when the sequence gets to number 1. Note: It is an open question\n",
    "whether the Collatz sequence of every positive integer always ends at 1.\n",
    "\n",
    "collatz(10)\n",
    "\n",
    "10\n",
    "\n",
    "5\n",
    "\n",
    "16\n",
    "\n",
    "8\n",
    "\n",
    "4\n",
    "\n",
    "2\n",
    "\n",
    "1"
   ]
  },
  {
   "cell_type": "code",
   "execution_count": 3,
   "metadata": {},
   "outputs": [
    {
     "name": "stdout",
     "output_type": "stream",
     "text": [
      "10\n",
      "5\n",
      "16\n",
      "8\n",
      "4\n",
      "2\n",
      "1\n"
     ]
    }
   ],
   "source": [
    "def collatz(x):\n",
    "    print(x)\n",
    "    while(x>1):\n",
    "        if(x%2==0):\n",
    "            x=x//2\n",
    "        else:\n",
    "            x=3*x+1\n",
    "        print(x)    \n",
    "collatz(10)            \n",
    "            "
   ]
  },
  {
   "cell_type": "markdown",
   "metadata": {},
   "source": [
    "5.39 Write function exclamation() that takes as input a string and returns it with this\n",
    "modification: Every vowel is replaced by four consecutive copies of itself and an exclamation mark (!) is added at the end.\n",
    "\n",
    "exclamation('argh')\n",
    "\n",
    "'aaaargh!'\n",
    "\n",
    "exclamation('hello')\n",
    "\n",
    "'heeeelloooo!'"
   ]
  },
  {
   "cell_type": "code",
   "execution_count": 9,
   "metadata": {},
   "outputs": [
    {
     "name": "stdout",
     "output_type": "stream",
     "text": [
      "aaaargh!\n",
      "heeeelloooo!\n"
     ]
    }
   ],
   "source": [
    "def exclamation(word):\n",
    "    new=word\n",
    "    for i in range(0,len(word)):\n",
    "        if(word[i] in 'aeiouAEIOU'):\n",
    "            new=new.replace(word[i],word[i]*4)\n",
    "            \n",
    "    print(new+'!')        \n",
    "exclamation('argh')   \n",
    "exclamation('hello')\n",
    "        \n",
    "            "
   ]
  },
  {
   "cell_type": "markdown",
   "metadata": {},
   "source": [
    "5.40 The constant π is an irrational number with value approximately 3.1415928 . . . The\n",
    "precise value of π is equal to this infinite sum:\n",
    "\n",
    "π = 4/1 − 4/3 + 4/5 − 4/7 + 4/9 − 4/11 + . . .\n",
    "\n",
    "We can get a good approximation of π by computing the sum of the first few terms. Write\n",
    "a function approxPi() that takes as input a float-value error and approximates constant π\n",
    "within error by computing the preceding sum, term by term, until the difference between\n",
    "the current sum and the previous sum (with one less term) is no greater than error. The\n",
    "function should return the new sum.\n",
    "\n",
    "approxPi(0.01)\n",
    "\n",
    "3.1465677471829556\n",
    "\n",
    "approxPi(0.0000001)\n",
    "\n",
    "3.1415927035898146"
   ]
  },
  {
   "cell_type": "code",
   "execution_count": 24,
   "metadata": {},
   "outputs": [
    {
     "name": "stdout",
     "output_type": "stream",
     "text": [
      "3.1465677471829556\n",
      "3.1415927035898146\n"
     ]
    }
   ],
   "source": [
    "def approxPi(x):\n",
    "    p_sum=4/1-4/3\n",
    "    c_sum=4/1-4/3+4/5\n",
    "    d=5\n",
    "    i=1\n",
    "    while(abs(c_sum-p_sum)>x):\n",
    "        d+=2\n",
    "        p_sum=c_sum\n",
    "        if(i%2==0):\n",
    "            c_sum=c_sum+4/d\n",
    "        else:\n",
    "            c_sum-=4/d\n",
    "        i+=1    \n",
    "    print(c_sum)    \n",
    "approxPi(0.01)\n",
    "approxPi(0.0000001)\n",
    "        "
   ]
  },
  {
   "cell_type": "markdown",
   "metadata": {},
   "source": [
    "5.41 A polynomial of degree n with coefficients a0, a1, a2, a3, . . . , an is the function\n",
    "\n",
    "p(x) = a0 + a1x + a2x^2 + a3x^3 + . . . + anx^n\n",
    "\n",
    "This function can be evaluated at different values of x. For example, if p(x) = 1 + 2x+x^2\n",
    ", then p(2) = 1 + 2*2 + 2^2 = 9. If p(x) = 1 + x^2 + x^4\n",
    ", then p(2) = 21 and p(3) = 91.\n",
    "\n",
    "Write a function poly() that takes as input a list of coefficients a0, a1, a2, a3, . . . , an\n",
    "of a polynomial p(x) and a value x. The function will return p(x), which is the value of the\n",
    "polynomial when evaluated at x. Note that the usage below is for the three examples shown.\n",
    "\n",
    "poly([1, 2, 1], 2)\n",
    "\n",
    "9\n",
    "\n",
    "poly([1, 0, 1, 0, 1], 2)\n",
    "\n",
    "21\n",
    "\n",
    "poly([1, 0, 1, 0, 1], 3)\n",
    "\n",
    "91\n"
   ]
  },
  {
   "cell_type": "code",
   "execution_count": 29,
   "metadata": {},
   "outputs": [
    {
     "name": "stdout",
     "output_type": "stream",
     "text": [
      "9\n",
      "21\n",
      "91\n"
     ]
    }
   ],
   "source": [
    "def poly(lst,x):\n",
    "    px=0\n",
    "    for i in range(0,len(lst)):\n",
    "        px=px+lst[i]*x**i\n",
    "    return (px)    \n",
    "print(poly([1, 2, 1], 2))\n",
    "print(poly([1, 0, 1, 0, 1], 2))\n",
    "print(poly([1, 0, 1, 0, 1], 3))"
   ]
  },
  {
   "cell_type": "markdown",
   "metadata": {},
   "source": [
    "5.42 Implement function primeFac() that takes as input a positive integer n and returns a\n",
    "list containing all the numbers in the prime factorization of n. (The prime factorization of\n",
    "a positive integer n is the unique list of prime numbers whose product is n.)\n",
    "\n",
    "primeFac(5)\n",
    "\n",
    "[5]\n",
    "\n",
    "primeFac(72)\n",
    "\n",
    "[2, 2, 2, 3, 3]"
   ]
  },
  {
   "cell_type": "code",
   "execution_count": 31,
   "metadata": {},
   "outputs": [
    {
     "name": "stdout",
     "output_type": "stream",
     "text": [
      "[5]\n",
      "[2, 2, 2, 3, 3]\n"
     ]
    }
   ],
   "source": [
    "def primeFac(n):\n",
    "    ans=[]\n",
    "    prime=2\n",
    "    while(n!=1):\n",
    "        if(n%prime==0):\n",
    "            ans.append(prime)\n",
    "            n=n//prime\n",
    "        else:\n",
    "            prime+=1\n",
    "    return ans\n",
    "print(primeFac(5))\n",
    "print(primeFac(72))"
   ]
  },
  {
   "cell_type": "markdown",
   "metadata": {},
   "source": [
    "5.43 Implement function evenrow() that takes a two-dimensional list of integers and returns True if each row of the table sums up to an even number and False otherwise (i.e.,\n",
    "if some row sums up to an odd number).\n",
    "\n",
    "evenrow([[1, 3], [2, 4], [0, 6]])\n",
    "\n",
    "True\n",
    "\n",
    "evenrow([[1, 3, 2], [3, 4, 7], [0, 6, 2]])\n",
    "\n",
    "True\n",
    "\n",
    "evenrow([[1, 3, 2], [3, 4, 7], [0, 5, 2]])\n",
    "\n",
    "False"
   ]
  },
  {
   "cell_type": "code",
   "execution_count": 1,
   "metadata": {},
   "outputs": [
    {
     "data": {
      "text/plain": [
       "True"
      ]
     },
     "execution_count": 1,
     "metadata": {},
     "output_type": "execute_result"
    }
   ],
   "source": [
    "def evenrow(lst):\n",
    "    for i in lst:\n",
    "        if(sum(i)%2!=0):\n",
    "            return False\n",
    "    return True\n",
    "evenrow([[1, 3, 2], [3, 4, 7], [0, 6, 2]])"
   ]
  },
  {
   "cell_type": "code",
   "execution_count": 2,
   "metadata": {},
   "outputs": [
    {
     "data": {
      "text/plain": [
       "True"
      ]
     },
     "execution_count": 2,
     "metadata": {},
     "output_type": "execute_result"
    }
   ],
   "source": [
    "evenrow([[1, 3], [2, 4], [0, 6]])"
   ]
  },
  {
   "cell_type": "code",
   "execution_count": 3,
   "metadata": {},
   "outputs": [
    {
     "data": {
      "text/plain": [
       "False"
      ]
     },
     "execution_count": 3,
     "metadata": {},
     "output_type": "execute_result"
    }
   ],
   "source": [
    "evenrow([[1, 3, 2], [3, 4, 7], [0, 5, 2]])"
   ]
  },
  {
   "cell_type": "markdown",
   "metadata": {},
   "source": [
    "5.44 A substitution cipher for the digits 0, 1, 2, 3, . . . , 9 substitutes each digit in 0, 1, 2,\n",
    "3, . . . , 9 with another digit in 0, 1, 2, 3, . . . , 9. It can be represented as a 10-digit string\n",
    "specifying how each digit in 0, 1, 2, 3, . . . , 9 is substituted. For example, the 10-digit string\n",
    "'3941068257' specifies a substitution cipher in which digit 0 is substituted with digit 3, 1\n",
    "with 9, 2 with 4, and so on. To encrypt a nonnegative integer, substitute each of its digits\n",
    "with the digit specified by the encryption key.\n",
    "Implement function cipher() that takes as input a 10-digit string key and a digit string\n",
    "(i.e., the clear text to be encrypted) and returns the encryption of the clear text.\n",
    "\n",
    "encrypt('3941068257', '132')\n",
    "\n",
    "'914'\n",
    "\n",
    "encrypt('3941068257', '111')\n",
    "\n",
    "'999'"
   ]
  },
  {
   "cell_type": "code",
   "execution_count": 50,
   "metadata": {},
   "outputs": [
    {
     "data": {
      "text/plain": [
       "'914'"
      ]
     },
     "execution_count": 50,
     "metadata": {},
     "output_type": "execute_result"
    }
   ],
   "source": [
    "def encrypt(cipher,n):\n",
    "    table=str.maketrans(\"0123456789\",cipher)\n",
    "    return n.translate(table)\n",
    "encrypt('3941068257', '132')\n",
    "    \n",
    "        "
   ]
  },
  {
   "cell_type": "code",
   "execution_count": 6,
   "metadata": {},
   "outputs": [
    {
     "data": {
      "text/plain": [
       "'999'"
      ]
     },
     "execution_count": 6,
     "metadata": {},
     "output_type": "execute_result"
    }
   ],
   "source": [
    "encrypt('3941068257', '111')"
   ]
  },
  {
   "cell_type": "markdown",
   "metadata": {},
   "source": [
    "5.45 The function avgavg() takes as input a list whose items are lists of three numbers.\n",
    "Each three-number list represents the three grades a particular student received for a course.\n",
    "For example, here is an input list for a class of four students:\n",
    "\n",
    "[[95,92,86], [66,75,54],[89, 72,100],[34,0,0]]\n",
    "\n",
    "The function avgavg() should print, on the screen, two lines. The first line will contain a\n",
    "list containing every student’s average grade. The second line will contain just one number:\n",
    "the average class grade, defined as the average of all student average grades.\n",
    "\n",
    "avgavg([[95, 92, 86], [66, 75, 54],[89, 72, 100], [34, 0, 0]])\n",
    "\n",
    "[91.0, 65.0, 87.0, 11.333333333333334]\n",
    "\n",
    "63.5833333333"
   ]
  },
  {
   "cell_type": "code",
   "execution_count": 7,
   "metadata": {},
   "outputs": [
    {
     "name": "stdout",
     "output_type": "stream",
     "text": [
      "[91.0, 65.0, 87.0, 11.333333333333334]\n",
      "63.583333333333336\n"
     ]
    }
   ],
   "source": [
    "def avgavg(lst):\n",
    "    avg=[]\n",
    "    for i in lst:\n",
    "        avg.append(sum(i)/len(i))\n",
    "    print(avg)\n",
    "    print(sum(avg)/len(avg))\n",
    "avgavg([[95, 92, 86], [66, 75, 54],[89, 72, 100], [34, 0, 0]])    \n",
    "                   "
   ]
  },
  {
   "cell_type": "markdown",
   "metadata": {},
   "source": [
    "5.46 An inversion in a sequence is a pair of entries that are out of order. For example, the\n",
    "characters F and D form an inversion in string 'ABBFHDL' because F appears before D; so\n",
    "do characters H and D. The total number of inversions in a sequence (i.e., the number of\n",
    "pairs that are out of order) is a measure of how unsorted the sequence is. The total number\n",
    "of inversions in 'ABBFHDL' is 2. Implement function inversions() that takes a sequence\n",
    "(i.e., a string) of uppercase characters A through Z and returns the number of inversions in\n",
    "the sequence.\n",
    "\n",
    "inversions('ABBFHDL')\n",
    "\n",
    "2\n",
    "\n",
    "inversions('ABCD')\n",
    "\n",
    "0\n",
    "\n",
    "inversions('DCBA')\n",
    "\n",
    "6"
   ]
  },
  {
   "cell_type": "code",
   "execution_count": 52,
   "metadata": {},
   "outputs": [
    {
     "data": {
      "text/plain": [
       "2"
      ]
     },
     "execution_count": 52,
     "metadata": {},
     "output_type": "execute_result"
    }
   ],
   "source": [
    "def inversions(word):\n",
    "    count=0\n",
    "    for i in range(0,len(word)):\n",
    "        for j in range(0,i):\n",
    "            if(word[j]>word[i]):\n",
    "                count+=1\n",
    "    return count            \n",
    "inversions('ABBFHDL')                \n",
    "            "
   ]
  },
  {
   "cell_type": "code",
   "execution_count": 11,
   "metadata": {},
   "outputs": [
    {
     "data": {
      "text/plain": [
       "0"
      ]
     },
     "execution_count": 11,
     "metadata": {},
     "output_type": "execute_result"
    }
   ],
   "source": [
    "inversions('ABCD')"
   ]
  },
  {
   "cell_type": "code",
   "execution_count": 12,
   "metadata": {},
   "outputs": [
    {
     "data": {
      "text/plain": [
       "6"
      ]
     },
     "execution_count": 12,
     "metadata": {},
     "output_type": "execute_result"
    }
   ],
   "source": [
    "inversions('DCBA')"
   ]
  },
  {
   "cell_type": "markdown",
   "metadata": {},
   "source": [
    "5.47 Write function d2x() that takes as input a nonnegative integer n (in the standard\n",
    "decimal representation) and an integer x between 2 and 9 and returns a string of digits that\n",
    "represents the base-x representation of n.\n",
    "\n",
    "d2x(10, 2)\n",
    "\n",
    "'1010'\n",
    "\n",
    "d2x(10, 3)\n",
    "\n",
    "'101'\n",
    "\n",
    "d2x(10, 8)\n",
    "\n",
    "'12"
   ]
  },
  {
   "cell_type": "code",
   "execution_count": 10,
   "metadata": {},
   "outputs": [],
   "source": [
    "def d2x(n,x):\n",
    "    s=''\n",
    "    while(n>=1):\n",
    "        r=n%x\n",
    "        s=s+str(r)\n",
    "        n=n//x\n",
    "    return(s[::-1])\n",
    "\n",
    "    \n",
    "    "
   ]
  },
  {
   "cell_type": "code",
   "execution_count": 11,
   "metadata": {},
   "outputs": [
    {
     "data": {
      "text/plain": [
       "'1010'"
      ]
     },
     "execution_count": 11,
     "metadata": {},
     "output_type": "execute_result"
    }
   ],
   "source": [
    "d2x(10, 2)"
   ]
  },
  {
   "cell_type": "code",
   "execution_count": 12,
   "metadata": {},
   "outputs": [
    {
     "data": {
      "text/plain": [
       "'101'"
      ]
     },
     "execution_count": 12,
     "metadata": {},
     "output_type": "execute_result"
    }
   ],
   "source": [
    "d2x(10, 3)"
   ]
  },
  {
   "cell_type": "code",
   "execution_count": 13,
   "metadata": {},
   "outputs": [
    {
     "data": {
      "text/plain": [
       "'12'"
      ]
     },
     "execution_count": 13,
     "metadata": {},
     "output_type": "execute_result"
    }
   ],
   "source": [
    "d2x(10, 8)"
   ]
  },
  {
   "cell_type": "markdown",
   "metadata": {},
   "source": [
    "5.48 Let list1 and list2 be two lists of integers. We say that list1 is a sublist of list2\n",
    "if the elements in list1 appear in list2 in the same order as they appear in list1, but\n",
    "not necessarily consecutively. For example, if list1 is defined as\n",
    "\n",
    "[15, 1, 100]\n",
    "\n",
    "and list2 is defined as\n",
    "\n",
    "[20, 15, 30, 50, 1, 100]\n",
    "\n",
    "then list1 is a sublist of list2 because the numbers in list1 (15, 1, and 100) appear in\n",
    "list2 in the same order. However, list\n",
    "\n",
    "[15, 50, 20]\n",
    "\n",
    "is not a sublist of list2.\n",
    "\n",
    "Implement function sublist() that takes as input lists list1 and list2 and returns\n",
    "True if list1 is a sublist of list2, and False otherwise.\n",
    "\n",
    "sublist([15, 1, 100], [20, 15, 30, 50, 1, 100])\n",
    "\n",
    "True\n",
    "\n",
    "sublist([15, 50, 20], [20, 15, 30, 50, 1, 100])\n",
    "\n",
    "False"
   ]
  },
  {
   "cell_type": "code",
   "execution_count": 72,
   "metadata": {},
   "outputs": [],
   "source": [
    "def sublist(lst1,lst2):\n",
    "    count=0\n",
    "    n=0\n",
    "    for i in range(0,len(lst1)):\n",
    "        for j in range(n,len(lst2)):\n",
    "            if(lst1[i]==lst2[j]):\n",
    "                count+=1\n",
    "                n=j+1\n",
    "                break\n",
    "    if(count==len(lst1)):\n",
    "        return True\n",
    "    else:\n",
    "        return False\n",
    "    \n",
    "                \n",
    "                \n",
    "                "
   ]
  },
  {
   "cell_type": "code",
   "execution_count": 73,
   "metadata": {},
   "outputs": [
    {
     "data": {
      "text/plain": [
       "True"
      ]
     },
     "execution_count": 73,
     "metadata": {},
     "output_type": "execute_result"
    }
   ],
   "source": [
    "sublist([15, 15, 100], [20, 15, 30, 50, 1, 100])"
   ]
  },
  {
   "cell_type": "code",
   "execution_count": 74,
   "metadata": {},
   "outputs": [
    {
     "data": {
      "text/plain": [
       "False"
      ]
     },
     "execution_count": 74,
     "metadata": {},
     "output_type": "execute_result"
    }
   ],
   "source": [
    "sublist([15, 50, 20], [20, 15, 30, 50, 1, 100])"
   ]
  },
  {
   "cell_type": "code",
   "execution_count": 75,
   "metadata": {},
   "outputs": [
    {
     "data": {
      "text/plain": [
       "True"
      ]
     },
     "execution_count": 75,
     "metadata": {},
     "output_type": "execute_result"
    }
   ],
   "source": [
    "sublist([15, 50, 20], [20, 15, 30, 50, 1, 20 ])"
   ]
  },
  {
   "cell_type": "markdown",
   "metadata": {},
   "source": [
    "5.49 The Heron method is a method the ancient Greeks used to compute the square root of\n",
    "a number n. The method generates a sequence of numbers that represent better and better\n",
    "approximations for √\n",
    "n. The first number in the sequence is an arbitrary guess; every other\n",
    "number in the sequence is obtained from the previous number prev using the formula\n",
    "\n",
    "1/2(prev + n/prev)\n",
    "\n",
    "Write function heron() that takes as input two numbers: n and error. The function should\n",
    "start with an initial guess of 1.0 for √\n",
    "n and then repeatedly generate better approximations\n",
    "until the difference (more precisely, the absolute value of the difference) between successive\n",
    "approximations is at most error.\n",
    "\n",
    "heron(4.0, 0.5)\n",
    "\n",
    "2.05\n",
    "\n",
    "heron(4.0, 0.1)\n",
    "\n",
    "2.000609756097561"
   ]
  },
  {
   "cell_type": "code",
   "execution_count": 56,
   "metadata": {},
   "outputs": [],
   "source": [
    "def heron(n,error):\n",
    "    prev=1.0\n",
    "    crnt=1/2*(prev+n/prev)\n",
    "    while(abs(prev-crnt)>error):\n",
    "        prev=crnt\n",
    "        crnt=1/2*(prev+n/prev)\n",
    "    return crnt\n"
   ]
  },
  {
   "cell_type": "code",
   "execution_count": 57,
   "metadata": {},
   "outputs": [
    {
     "data": {
      "text/plain": [
       "2.05"
      ]
     },
     "execution_count": 57,
     "metadata": {},
     "output_type": "execute_result"
    }
   ],
   "source": [
    "heron(4.0, 0.5)"
   ]
  },
  {
   "cell_type": "code",
   "execution_count": 58,
   "metadata": {},
   "outputs": [
    {
     "data": {
      "text/plain": [
       "2.000609756097561"
      ]
     },
     "execution_count": 58,
     "metadata": {},
     "output_type": "execute_result"
    }
   ],
   "source": [
    "heron(4.0, 0.1)"
   ]
  }
 ],
 "metadata": {
  "kernelspec": {
   "display_name": "Python 3",
   "language": "python",
   "name": "python3"
  },
  "language_info": {
   "codemirror_mode": {
    "name": "ipython",
    "version": 3
   },
   "file_extension": ".py",
   "mimetype": "text/x-python",
   "name": "python",
   "nbconvert_exporter": "python",
   "pygments_lexer": "ipython3",
   "version": "3.8.5"
  }
 },
 "nbformat": 4,
 "nbformat_minor": 4
}
